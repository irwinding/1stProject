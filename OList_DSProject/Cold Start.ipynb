{
 "cells": [
  {
   "cell_type": "code",
   "execution_count": 1,
   "id": "chinese-valuation",
   "metadata": {},
   "outputs": [],
   "source": [
    "import datetime as dt\n",
    "import numpy as np \n",
    "import pandas as pd \n",
    "import matplotlib\n",
    "import matplotlib.pyplot as plt\n",
    "import seaborn as sns\n",
    "\n",
    "import sklearn.preprocessing as pp\n",
    "from sklearn.cluster import KMeans, SpectralClustering, Birch\n",
    "from sklearn.mixture import GaussianMixture\n",
    "from sklearn.metrics import silhouette_score\n",
    "\n",
    "plt.style.use('fivethirtyeight')"
   ]
  },
  {
   "cell_type": "markdown",
   "id": "saved-plaintiff",
   "metadata": {},
   "source": [
    "# Data Cleaning"
   ]
  },
  {
   "cell_type": "code",
   "execution_count": 2,
   "id": "accredited-cargo",
   "metadata": {},
   "outputs": [],
   "source": [
    "# Load data into pandas\n",
    "customers = pd.read_csv(\"olist_customers_dataset.csv\")\n",
    "orders = pd.read_csv(\"olist_orders_dataset.csv\")\n",
    "payments = pd.read_csv(\"olist_order_payments_dataset.csv\")\n",
    "items = pd.read_csv(\"olist_order_items_dataset.csv\")\n",
    "reviews = pd.read_csv(\"olist_order_reviews_dataset.csv\")\n",
    "sellers = pd.read_csv(\"olist_sellers_dataset.csv\")\n",
    "products = pd.read_csv(\"olist_products_dataset.csv\")\n",
    "tproducts = pd.read_csv(\"product_category_name_translation.csv\")\n",
    "geolocation = pd.read_csv(\"olist_geolocation_dataset.csv\")"
   ]
  },
  {
   "cell_type": "code",
   "execution_count": 3,
   "id": "cloudy-stations",
   "metadata": {},
   "outputs": [],
   "source": [
    "# Datatype conversion for easier manipulation\n",
    "df = customers.merge(orders, on = 'customer_id',how = 'left')\n",
    "date_columns = ['order_purchase_timestamp', 'order_approved_at', 'order_delivered_carrier_date', 'order_delivered_customer_date', 'order_estimated_delivery_date']\n",
    "for col in date_columns:\n",
    "    df[col] = pd.to_datetime(df[col], format='%Y-%m-%d %H:%M:%S')\n",
    "df['order_purchase_year'] = df.order_purchase_timestamp.apply(lambda x: x.year)\n",
    "df['order_purchase_month'] = df.order_purchase_timestamp.apply(lambda x: x.month)\n",
    "df['order_purchase_dayofweek'] = df.order_purchase_timestamp.apply(lambda x: x.dayofweek)\n",
    "df['order_purchase_hour'] = df.order_purchase_timestamp.apply(lambda x: x.hour)\n",
    "df['order_purchase_day'] = df['order_purchase_dayofweek'].map({0:'Mon',1:'Tue',2:'Wed',3:'Thu',4:'Fri',5:'Sat',6:'Sun'})\n",
    "df['order_purchase_mon'] = df.order_purchase_timestamp.apply(lambda x: x.month).map({1:'Jan',2:'Feb',3:'Mar',4:'Apr',5:'May',6:'Jun',7:'Jul',8:'Aug',9:'Sep',10:'Oct',11:'Nov',12:'Dec'})\n",
    "\n",
    "df['month_year'] = df['order_purchase_month'].astype(str).apply(lambda x: '0' + x if len(x) == 1 else x)\n",
    "df['month_year'] = df['order_purchase_year'].astype(str) + '-' + df['month_year'].astype(str)\n",
    "df['month_year2'] = df['order_purchase_mon'] + ' ' +  df['order_purchase_year'].astype(str)"
   ]
  },
  {
   "cell_type": "code",
   "execution_count": 4,
   "id": "stretch-subject",
   "metadata": {},
   "outputs": [],
   "source": [
    "df = df.merge(payments, on = 'order_id', how = 'left')\n",
    "df = df.merge(items, on = 'order_id', how = 'left')\n",
    "df = df.merge(products, on = 'product_id', how = 'left')\n",
    "df = df.merge(tproducts, on = 'product_category_name', how = 'left')"
   ]
  },
  {
   "cell_type": "code",
   "execution_count": 5,
   "id": "matched-edinburgh",
   "metadata": {},
   "outputs": [],
   "source": [
    "df.dropna(subset=['payment_value'],inplace = True)\n",
    "# dropping missing values\n",
    "df.dropna(inplace=True)\n",
    "\n",
    "# excluding incomplete 2012 data and displaying first 5 rows of master dataframe\n",
    "df = df.query(\"month_year != '2016-12' and month_year != '2016-10'\")"
   ]
  },
  {
   "cell_type": "code",
   "execution_count": null,
   "id": "activated-reset",
   "metadata": {},
   "outputs": [],
   "source": []
  },
  {
   "cell_type": "markdown",
   "id": "regulated-riverside",
   "metadata": {},
   "source": [
    "# RFM Segmentation"
   ]
  },
  {
   "cell_type": "code",
   "execution_count": 6,
   "id": "concerned-internship",
   "metadata": {},
   "outputs": [],
   "source": [
    "last_date = df['order_purchase_timestamp'].max() + dt.timedelta(days=1)"
   ]
  },
  {
   "cell_type": "code",
   "execution_count": 7,
   "id": "colored-excellence",
   "metadata": {},
   "outputs": [],
   "source": [
    "rfm2 = df.groupby('customer_unique_id').agg(\n",
    "                 Recency = ('order_purchase_timestamp', lambda x: (last_date - x.max()).days),\n",
    "                 Frequency = ('customer_id', lambda x: x.nunique()),\n",
    "                 Monetary = ('price', 'sum'))"
   ]
  },
  {
   "cell_type": "code",
   "execution_count": 8,
   "id": "fiscal-forest",
   "metadata": {},
   "outputs": [],
   "source": [
    "rfm2 = rfm2[rfm2['Frequency']<3]\n",
    "rfm2 = rfm2[rfm2['Monetary']<1100]"
   ]
  },
  {
   "cell_type": "code",
   "execution_count": 11,
   "id": "urban-cedar",
   "metadata": {},
   "outputs": [],
   "source": [
    "rfm2cluster = rfm2[['Recency','Frequency','Monetary']]\n",
    "rfm2_log = rfm2cluster[['Recency', 'Frequency', 'Monetary']].apply(np.log, axis = 1)"
   ]
  },
  {
   "cell_type": "code",
   "execution_count": 12,
   "id": "universal-toyota",
   "metadata": {},
   "outputs": [],
   "source": [
    "from sklearn.preprocessing import StandardScaler\n",
    "scaler = StandardScaler()\n",
    "scaler.fit(rfm2_log)\n",
    "#Store it separately for clustering\n",
    "rfm2_normalized = scaler.transform(rfm2_log)"
   ]
  },
  {
   "cell_type": "code",
   "execution_count": null,
   "id": "accredited-fields",
   "metadata": {},
   "outputs": [],
   "source": []
  },
  {
   "cell_type": "markdown",
   "id": "respiratory-tennis",
   "metadata": {},
   "source": [
    "# Cold Start"
   ]
  },
  {
   "cell_type": "markdown",
   "id": "sunset-liberal",
   "metadata": {},
   "source": [
    "The clustering and segmentation we have done so far is only applicable to existing customers because they have the relevant *Recency, Frequency and Monetary* information. But what about new customers if they do not have the sufficient information? It leads us to the *cold start* problem where our system try to make inferences even if there are insufficient information."
   ]
  },
  {
   "cell_type": "code",
   "execution_count": 13,
   "id": "historic-mauritius",
   "metadata": {},
   "outputs": [],
   "source": [
    "# K-Means Clustering with 4 clusters\n",
    "kmeans = KMeans(n_clusters=4, random_state = 1)\n",
    "kmeans.fit(rfm2_normalized)\n",
    "labels1 = kmeans.predict(rfm2_normalized)\n",
    "rfm2['KCluster4'] = pd.Categorical(labels1)\n",
    "RFMKCluster4 = rfm2.groupby('KCluster4').agg({'Recency':['mean'],'Frequency':['mean'],'Monetary':['mean','count']})"
   ]
  },
  {
   "cell_type": "code",
   "execution_count": 14,
   "id": "statewide-delaware",
   "metadata": {},
   "outputs": [],
   "source": [
    "# Create a dataframe with Payments, Customers and Orders\n",
    "PCO = pd.merge(orders,customers,on='customer_id')\n",
    "PCO = pd.merge(PCO, payments, on ='order_id')"
   ]
  },
  {
   "cell_type": "code",
   "execution_count": 15,
   "id": "economic-press",
   "metadata": {},
   "outputs": [],
   "source": [
    "# Drop irrelevant columns\n",
    "PCO.drop(columns = ['order_delivered_carrier_date', 'customer_zip_code_prefix', 'order_approved_at', 'order_status'],\n",
    "         inplace = True)\n",
    "\n",
    "# Remove any duplicated customer_unique_id\n",
    "PCO.drop_duplicates(subset = ['customer_unique_id'], inplace = True)"
   ]
  },
  {
   "cell_type": "code",
   "execution_count": 16,
   "id": "piano-occasions",
   "metadata": {},
   "outputs": [],
   "source": [
    "# Reset the index of the dataframe with the rfm segmentation\n",
    "rfm2.reset_index(inplace = True)"
   ]
  },
  {
   "cell_type": "code",
   "execution_count": 17,
   "id": "automated-salon",
   "metadata": {},
   "outputs": [],
   "source": [
    "# This will give us the characteristic information of the different customers as well as their rfm cluster\n",
    "PCO = pd.merge(PCO, rfm2[['customer_unique_id', 'KCluster4']], on = 'customer_unique_id')\n",
    "PCO = pd.merge(PCO, items, on = 'order_id')\n",
    "PCO.drop_duplicates(subset = 'customer_unique_id', inplace = True)"
   ]
  },
  {
   "cell_type": "code",
   "execution_count": 18,
   "id": "confident-performance",
   "metadata": {},
   "outputs": [],
   "source": [
    "# Separate the dataframe into their clusters\n",
    "cluster_0 = PCO[PCO['KCluster4'] == 0]\n",
    "cluster_1 = PCO[PCO['KCluster4'] == 1]\n",
    "cluster_2 = PCO[PCO['KCluster4'] == 2]\n",
    "cluster_3 = PCO[PCO['KCluster4'] == 3]"
   ]
  },
  {
   "cell_type": "code",
   "execution_count": 19,
   "id": "worldwide-ownership",
   "metadata": {},
   "outputs": [
    {
     "name": "stderr",
     "output_type": "stream",
     "text": [
      "<ipython-input-19-631b0deb5e4f>:2: SettingWithCopyWarning: \n",
      "A value is trying to be set on a copy of a slice from a DataFrame.\n",
      "Try using .loc[row_indexer,col_indexer] = value instead\n",
      "\n",
      "See the caveats in the documentation: https://pandas.pydata.org/pandas-docs/stable/user_guide/indexing.html#returning-a-view-versus-a-copy\n",
      "  cluster_0['order_delivered_customer_date'] = pd.to_datetime(cluster_0['order_delivered_customer_date']\n",
      "<ipython-input-19-631b0deb5e4f>:4: SettingWithCopyWarning: \n",
      "A value is trying to be set on a copy of a slice from a DataFrame.\n",
      "Try using .loc[row_indexer,col_indexer] = value instead\n",
      "\n",
      "See the caveats in the documentation: https://pandas.pydata.org/pandas-docs/stable/user_guide/indexing.html#returning-a-view-versus-a-copy\n",
      "  cluster_0['order_estimated_delivery_date'] = pd.to_datetime(cluster_0['order_estimated_delivery_date']\n",
      "<ipython-input-19-631b0deb5e4f>:6: SettingWithCopyWarning: \n",
      "A value is trying to be set on a copy of a slice from a DataFrame.\n",
      "Try using .loc[row_indexer,col_indexer] = value instead\n",
      "\n",
      "See the caveats in the documentation: https://pandas.pydata.org/pandas-docs/stable/user_guide/indexing.html#returning-a-view-versus-a-copy\n",
      "  cluster_1['order_delivered_customer_date'] = pd.to_datetime(cluster_1['order_delivered_customer_date']\n",
      "<ipython-input-19-631b0deb5e4f>:8: SettingWithCopyWarning: \n",
      "A value is trying to be set on a copy of a slice from a DataFrame.\n",
      "Try using .loc[row_indexer,col_indexer] = value instead\n",
      "\n",
      "See the caveats in the documentation: https://pandas.pydata.org/pandas-docs/stable/user_guide/indexing.html#returning-a-view-versus-a-copy\n",
      "  cluster_1['order_estimated_delivery_date'] = pd.to_datetime(cluster_1['order_estimated_delivery_date']\n",
      "<ipython-input-19-631b0deb5e4f>:10: SettingWithCopyWarning: \n",
      "A value is trying to be set on a copy of a slice from a DataFrame.\n",
      "Try using .loc[row_indexer,col_indexer] = value instead\n",
      "\n",
      "See the caveats in the documentation: https://pandas.pydata.org/pandas-docs/stable/user_guide/indexing.html#returning-a-view-versus-a-copy\n",
      "  cluster_2['order_delivered_customer_date'] = pd.to_datetime(cluster_2['order_delivered_customer_date']\n",
      "<ipython-input-19-631b0deb5e4f>:12: SettingWithCopyWarning: \n",
      "A value is trying to be set on a copy of a slice from a DataFrame.\n",
      "Try using .loc[row_indexer,col_indexer] = value instead\n",
      "\n",
      "See the caveats in the documentation: https://pandas.pydata.org/pandas-docs/stable/user_guide/indexing.html#returning-a-view-versus-a-copy\n",
      "  cluster_2['order_estimated_delivery_date'] = pd.to_datetime(cluster_2['order_estimated_delivery_date']\n",
      "<ipython-input-19-631b0deb5e4f>:14: SettingWithCopyWarning: \n",
      "A value is trying to be set on a copy of a slice from a DataFrame.\n",
      "Try using .loc[row_indexer,col_indexer] = value instead\n",
      "\n",
      "See the caveats in the documentation: https://pandas.pydata.org/pandas-docs/stable/user_guide/indexing.html#returning-a-view-versus-a-copy\n",
      "  cluster_3['order_delivered_customer_date'] = pd.to_datetime(cluster_3['order_delivered_customer_date']\n",
      "<ipython-input-19-631b0deb5e4f>:16: SettingWithCopyWarning: \n",
      "A value is trying to be set on a copy of a slice from a DataFrame.\n",
      "Try using .loc[row_indexer,col_indexer] = value instead\n",
      "\n",
      "See the caveats in the documentation: https://pandas.pydata.org/pandas-docs/stable/user_guide/indexing.html#returning-a-view-versus-a-copy\n",
      "  cluster_3['order_estimated_delivery_date'] = pd.to_datetime(cluster_3['order_estimated_delivery_date']\n"
     ]
    }
   ],
   "source": [
    "# Converting delivery time to datetime datatype for easier manipulation\n",
    "cluster_0['order_delivered_customer_date'] = pd.to_datetime(cluster_0['order_delivered_customer_date']\n",
    "                                                            , format='%Y-%m-%d %H:%M:%S')\n",
    "cluster_0['order_estimated_delivery_date'] = pd.to_datetime(cluster_0['order_estimated_delivery_date']\n",
    "                                                            , format='%Y-%m-%d %H:%M:%S')\n",
    "cluster_1['order_delivered_customer_date'] = pd.to_datetime(cluster_1['order_delivered_customer_date']\n",
    "                                                            , format='%Y-%m-%d %H:%M:%S')\n",
    "cluster_1['order_estimated_delivery_date'] = pd.to_datetime(cluster_1['order_estimated_delivery_date']\n",
    "                                                            , format='%Y-%m-%d %H:%M:%S')\n",
    "cluster_2['order_delivered_customer_date'] = pd.to_datetime(cluster_2['order_delivered_customer_date']\n",
    "                                                            , format='%Y-%m-%d %H:%M:%S')\n",
    "cluster_2['order_estimated_delivery_date'] = pd.to_datetime(cluster_2['order_estimated_delivery_date']\n",
    "                                                            , format='%Y-%m-%d %H:%M:%S')\n",
    "cluster_3['order_delivered_customer_date'] = pd.to_datetime(cluster_3['order_delivered_customer_date']\n",
    "                                                            , format='%Y-%m-%d %H:%M:%S')\n",
    "cluster_3['order_estimated_delivery_date'] = pd.to_datetime(cluster_3['order_estimated_delivery_date']\n",
    "                                                            , format='%Y-%m-%d %H:%M:%S')"
   ]
  },
  {
   "cell_type": "code",
   "execution_count": 20,
   "id": "widespread-dating",
   "metadata": {},
   "outputs": [
    {
     "name": "stderr",
     "output_type": "stream",
     "text": [
      "<ipython-input-20-c8a5235255eb>:2: SettingWithCopyWarning: \n",
      "A value is trying to be set on a copy of a slice from a DataFrame.\n",
      "Try using .loc[row_indexer,col_indexer] = value instead\n",
      "\n",
      "See the caveats in the documentation: https://pandas.pydata.org/pandas-docs/stable/user_guide/indexing.html#returning-a-view-versus-a-copy\n",
      "  cluster_0['Difference_in_delivery_date'] = cluster_0['order_estimated_delivery_date'] - cluster_0['order_delivered_customer_date']\n",
      "<ipython-input-20-c8a5235255eb>:3: SettingWithCopyWarning: \n",
      "A value is trying to be set on a copy of a slice from a DataFrame.\n",
      "Try using .loc[row_indexer,col_indexer] = value instead\n",
      "\n",
      "See the caveats in the documentation: https://pandas.pydata.org/pandas-docs/stable/user_guide/indexing.html#returning-a-view-versus-a-copy\n",
      "  cluster_1['Difference_in_delivery_date'] = cluster_1['order_estimated_delivery_date'] - cluster_1['order_delivered_customer_date']\n",
      "<ipython-input-20-c8a5235255eb>:4: SettingWithCopyWarning: \n",
      "A value is trying to be set on a copy of a slice from a DataFrame.\n",
      "Try using .loc[row_indexer,col_indexer] = value instead\n",
      "\n",
      "See the caveats in the documentation: https://pandas.pydata.org/pandas-docs/stable/user_guide/indexing.html#returning-a-view-versus-a-copy\n",
      "  cluster_2['Difference_in_delivery_date'] = cluster_2['order_estimated_delivery_date'] - cluster_2['order_delivered_customer_date']\n",
      "<ipython-input-20-c8a5235255eb>:5: SettingWithCopyWarning: \n",
      "A value is trying to be set on a copy of a slice from a DataFrame.\n",
      "Try using .loc[row_indexer,col_indexer] = value instead\n",
      "\n",
      "See the caveats in the documentation: https://pandas.pydata.org/pandas-docs/stable/user_guide/indexing.html#returning-a-view-versus-a-copy\n",
      "  cluster_3['Difference_in_delivery_date'] = cluster_3['order_estimated_delivery_date'] - cluster_3['order_delivered_customer_date']\n"
     ]
    }
   ],
   "source": [
    "# Calculate the difference in delivery date and time\n",
    "cluster_0['Difference_in_delivery_date'] = cluster_0['order_estimated_delivery_date'] - cluster_0['order_delivered_customer_date']\n",
    "cluster_1['Difference_in_delivery_date'] = cluster_1['order_estimated_delivery_date'] - cluster_1['order_delivered_customer_date']\n",
    "cluster_2['Difference_in_delivery_date'] = cluster_2['order_estimated_delivery_date'] - cluster_2['order_delivered_customer_date']\n",
    "cluster_3['Difference_in_delivery_date'] = cluster_3['order_estimated_delivery_date'] - cluster_3['order_delivered_customer_date']\n"
   ]
  },
  {
   "cell_type": "code",
   "execution_count": 21,
   "id": "respected-teach",
   "metadata": {},
   "outputs": [],
   "source": [
    "cluster_0.reset_index(inplace = True)\n",
    "cluster_1.reset_index(inplace = True)\n",
    "cluster_2.reset_index(inplace = True)\n",
    "cluster_3.reset_index(inplace = True)"
   ]
  },
  {
   "cell_type": "code",
   "execution_count": 22,
   "id": "tropical-prague",
   "metadata": {},
   "outputs": [
    {
     "name": "stderr",
     "output_type": "stream",
     "text": [
      "/apps/python/v3.8.5/lib/python3.8/site-packages/pandas/core/indexing.py:1636: SettingWithCopyWarning: \n",
      "A value is trying to be set on a copy of a slice from a DataFrame\n",
      "\n",
      "See the caveats in the documentation: https://pandas.pydata.org/pandas-docs/stable/user_guide/indexing.html#returning-a-view-versus-a-copy\n",
      "  self._setitem_single_block(indexer, value, name)\n",
      "/apps/python/v3.8.5/lib/python3.8/site-packages/pandas/core/indexing.py:691: SettingWithCopyWarning: \n",
      "A value is trying to be set on a copy of a slice from a DataFrame\n",
      "\n",
      "See the caveats in the documentation: https://pandas.pydata.org/pandas-docs/stable/user_guide/indexing.html#returning-a-view-versus-a-copy\n",
      "  iloc._setitem_with_indexer(indexer, value, self.name)\n"
     ]
    }
   ],
   "source": [
    "# Changing the format of the datetime to just days\n",
    "for i in range(len(cluster_0)):\n",
    "    cluster_0['Difference_in_delivery_date'].loc[i] = cluster_0['Difference_in_delivery_date'].loc[i].days\n",
    "\n",
    "for i in range(len(cluster_1)):\n",
    "    cluster_1['Difference_in_delivery_date'].loc[i] = cluster_1['Difference_in_delivery_date'].loc[i].days\n",
    "    \n",
    "for i in range(len(cluster_2)):\n",
    "    cluster_2['Difference_in_delivery_date'].loc[i] = cluster_2['Difference_in_delivery_date'].loc[i].days\n",
    "\n",
    "for i in range(len(cluster_3)):\n",
    "    cluster_3['Difference_in_delivery_date'].loc[i] = cluster_3['Difference_in_delivery_date'].loc[i].days"
   ]
  },
  {
   "cell_type": "code",
   "execution_count": 23,
   "id": "civic-content",
   "metadata": {},
   "outputs": [
    {
     "name": "stderr",
     "output_type": "stream",
     "text": [
      "/apps/python/v3.8.5/lib/python3.8/site-packages/pandas/core/frame.py:4305: SettingWithCopyWarning: \n",
      "A value is trying to be set on a copy of a slice from a DataFrame\n",
      "\n",
      "See the caveats in the documentation: https://pandas.pydata.org/pandas-docs/stable/user_guide/indexing.html#returning-a-view-versus-a-copy\n",
      "  return super().drop(\n"
     ]
    }
   ],
   "source": [
    "# To drop irrelevant columns\n",
    "clusters = [cluster_0, cluster_1, cluster_2, cluster_3]\n",
    "\n",
    "for i in clusters:\n",
    "    i.drop(columns = ['order_delivered_customer_date', 'order_estimated_delivery_date', 'customer_unique_id'], inplace = True)"
   ]
  },
  {
   "cell_type": "markdown",
   "id": "typical-selection",
   "metadata": {},
   "source": [
    "Cold Start Solution:\n",
    "***Assume that suppose a customer's characteristics matches the cluster's characteristics, we can put the customer into that cluster.***\n",
    "\n",
    "1) Identify the characteristics of separate clusters.\n",
    "\n",
    "2) Extract the same characteristics information of the new customers and do a comparison.\n",
    "\n",
    "3) Assign the new customers to their clusters."
   ]
  },
  {
   "cell_type": "markdown",
   "id": "senior-netscape",
   "metadata": {},
   "source": [
    "The characteristics we will look at are:\n",
    "- Top 5 Locations\n",
    "- Top 5 Products\n",
    "- Top 5 States\n",
    "- Payment Methods\n",
    "- Difference in delivery date\n",
    "- Installment plan\n",
    "- Amount spent"
   ]
  },
  {
   "cell_type": "code",
   "execution_count": 24,
   "id": "extra-abuse",
   "metadata": {},
   "outputs": [],
   "source": [
    "def cluster_characteristics(cluster):\n",
    "    df1 = pd.DataFrame()\n",
    "    top5_customer_city = pd.DataFrame(cluster.customer_city.value_counts().head(5))\n",
    "    top5_customer_city.reset_index(inplace = True)\n",
    "    top5_customer_city.rename(columns = {'index': 'City'}, inplace = True)\n",
    "    df1['Top 5 Countries'] = top5_customer_city.City\n",
    "    \n",
    "    top5_state = pd.DataFrame(cluster.customer_state.value_counts().head(5))\n",
    "    top5_state.reset_index(inplace = True)\n",
    "    top5_state.rename(columns = {'index': 'State'}, inplace = True)\n",
    "    df1['Top 5 States'] = top5_state.State\n",
    "    \n",
    "    product = pd.merge(cluster['product_id'], products, on = 'product_id')\n",
    "    product = pd.merge(product, tproducts, on = 'product_category_name')\n",
    "    product_top5 = pd.DataFrame(product.product_category_name_english.value_counts().head(5))\n",
    "    product_top5.reset_index(inplace = True)\n",
    "    product_top5.rename(columns = {'index': 'Products'}, inplace = True)\n",
    "    df1['Top 5 Products'] = product_top5.Products\n",
    "    \n",
    "    paymenttype = pd.DataFrame(cluster.payment_type.value_counts(normalize = True))\n",
    "    paymenttype.reset_index(inplace = True)\n",
    "    paymenttype.rename(columns = {'index': 'Payment_type'}, inplace = True)\n",
    "    df1['Payment Type'] = paymenttype.Payment_type\n",
    "    \n",
    "    df1['Delivery Date Diff'] = cluster.Difference_in_delivery_date.mean().round(2)\n",
    "    \n",
    "    df1['Installment'] = cluster.payment_installments.mean().round(0)\n",
    "    df1['Average Spending'] = '-'\n",
    "    \n",
    "    for i in [1,2,3,4]:\n",
    "        df1[\"Delivery Date Diff\"].loc[i] = '-'\n",
    "        df1[\"Installment\"].loc[i] = '-'\n",
    "    df1.fillna('-', inplace = True)\n",
    "    \n",
    "    \n",
    "    return df1"
   ]
  },
  {
   "cell_type": "code",
   "execution_count": 25,
   "id": "decimal-savage",
   "metadata": {},
   "outputs": [],
   "source": [
    "# Pass every cluster dataframe into the function\n",
    "cluster0_characteristics = cluster_characteristics(cluster_0)\n",
    "cluster1_characteristics = cluster_characteristics(cluster_1)\n",
    "cluster2_characteristics = cluster_characteristics(cluster_2)\n",
    "cluster3_characteristics = cluster_characteristics(cluster_3)"
   ]
  },
  {
   "cell_type": "code",
   "execution_count": 44,
   "id": "clear-actor",
   "metadata": {},
   "outputs": [
    {
     "data": {
      "text/html": [
       "<div>\n",
       "<style scoped>\n",
       "    .dataframe tbody tr th:only-of-type {\n",
       "        vertical-align: middle;\n",
       "    }\n",
       "\n",
       "    .dataframe tbody tr th {\n",
       "        vertical-align: top;\n",
       "    }\n",
       "\n",
       "    .dataframe thead tr th {\n",
       "        text-align: left;\n",
       "    }\n",
       "\n",
       "    .dataframe thead tr:last-of-type th {\n",
       "        text-align: right;\n",
       "    }\n",
       "</style>\n",
       "<table border=\"1\" class=\"dataframe\">\n",
       "  <thead>\n",
       "    <tr>\n",
       "      <th></th>\n",
       "      <th>Recency</th>\n",
       "      <th>Frequency</th>\n",
       "      <th colspan=\"2\" halign=\"left\">Monetary</th>\n",
       "    </tr>\n",
       "    <tr>\n",
       "      <th></th>\n",
       "      <th>mean</th>\n",
       "      <th>mean</th>\n",
       "      <th>mean</th>\n",
       "      <th>count</th>\n",
       "    </tr>\n",
       "    <tr>\n",
       "      <th>KCluster4</th>\n",
       "      <th></th>\n",
       "      <th></th>\n",
       "      <th></th>\n",
       "      <th></th>\n",
       "    </tr>\n",
       "  </thead>\n",
       "  <tbody>\n",
       "    <tr>\n",
       "      <th>0</th>\n",
       "      <td>40.521185</td>\n",
       "      <td>1</td>\n",
       "      <td>113.967644</td>\n",
       "      <td>15365</td>\n",
       "    </tr>\n",
       "    <tr>\n",
       "      <th>1</th>\n",
       "      <td>279.181139</td>\n",
       "      <td>1</td>\n",
       "      <td>44.343429</td>\n",
       "      <td>34918</td>\n",
       "    </tr>\n",
       "    <tr>\n",
       "      <th>2</th>\n",
       "      <td>220.283103</td>\n",
       "      <td>2</td>\n",
       "      <td>229.791263</td>\n",
       "      <td>2462</td>\n",
       "    </tr>\n",
       "    <tr>\n",
       "      <th>3</th>\n",
       "      <td>276.400696</td>\n",
       "      <td>1</td>\n",
       "      <td>210.462998</td>\n",
       "      <td>37949</td>\n",
       "    </tr>\n",
       "  </tbody>\n",
       "</table>\n",
       "</div>"
      ],
      "text/plain": [
       "              Recency Frequency    Monetary       \n",
       "                 mean      mean        mean  count\n",
       "KCluster4                                         \n",
       "0           40.521185         1  113.967644  15365\n",
       "1          279.181139         1   44.343429  34918\n",
       "2          220.283103         2  229.791263   2462\n",
       "3          276.400696         1  210.462998  37949"
      ]
     },
     "execution_count": 44,
     "metadata": {},
     "output_type": "execute_result"
    }
   ],
   "source": [
    "RFMKCluster4"
   ]
  },
  {
   "cell_type": "code",
   "execution_count": 35,
   "id": "duplicate-sapphire",
   "metadata": {},
   "outputs": [],
   "source": [
    "cluster0_characteristics['Average Spending'].loc[0] = 114.0"
   ]
  },
  {
   "cell_type": "code",
   "execution_count": 36,
   "id": "cognitive-point",
   "metadata": {},
   "outputs": [],
   "source": [
    "cluster1_characteristics['Average Spending'].loc[0] = 44.3"
   ]
  },
  {
   "cell_type": "code",
   "execution_count": 37,
   "id": "round-mainland",
   "metadata": {},
   "outputs": [],
   "source": [
    "cluster2_characteristics['Average Spending'].loc[0] = 230.0"
   ]
  },
  {
   "cell_type": "code",
   "execution_count": 38,
   "id": "parliamentary-leave",
   "metadata": {},
   "outputs": [],
   "source": [
    "cluster3_characteristics['Average Spending'].loc[0] = 210.4"
   ]
  },
  {
   "cell_type": "code",
   "execution_count": 39,
   "id": "ordered-stuff",
   "metadata": {},
   "outputs": [
    {
     "data": {
      "text/html": [
       "<div>\n",
       "<style scoped>\n",
       "    .dataframe tbody tr th:only-of-type {\n",
       "        vertical-align: middle;\n",
       "    }\n",
       "\n",
       "    .dataframe tbody tr th {\n",
       "        vertical-align: top;\n",
       "    }\n",
       "\n",
       "    .dataframe thead th {\n",
       "        text-align: right;\n",
       "    }\n",
       "</style>\n",
       "<table border=\"1\" class=\"dataframe\">\n",
       "  <thead>\n",
       "    <tr style=\"text-align: right;\">\n",
       "      <th></th>\n",
       "      <th>Top 5 Countries</th>\n",
       "      <th>Top 5 States</th>\n",
       "      <th>Top 5 Products</th>\n",
       "      <th>Payment Type</th>\n",
       "      <th>Delivery Date Diff</th>\n",
       "      <th>Installment</th>\n",
       "      <th>Average Spending</th>\n",
       "    </tr>\n",
       "  </thead>\n",
       "  <tbody>\n",
       "    <tr>\n",
       "      <th>0</th>\n",
       "      <td>sao paulo</td>\n",
       "      <td>SP</td>\n",
       "      <td>health_beauty</td>\n",
       "      <td>credit_card</td>\n",
       "      <td>10.86</td>\n",
       "      <td>3.0</td>\n",
       "      <td>114.0</td>\n",
       "    </tr>\n",
       "    <tr>\n",
       "      <th>1</th>\n",
       "      <td>rio de janeiro</td>\n",
       "      <td>RJ</td>\n",
       "      <td>bed_bath_table</td>\n",
       "      <td>boleto</td>\n",
       "      <td>-</td>\n",
       "      <td>-</td>\n",
       "      <td>-</td>\n",
       "    </tr>\n",
       "    <tr>\n",
       "      <th>2</th>\n",
       "      <td>belo horizonte</td>\n",
       "      <td>MG</td>\n",
       "      <td>housewares</td>\n",
       "      <td>debit_card</td>\n",
       "      <td>-</td>\n",
       "      <td>-</td>\n",
       "      <td>-</td>\n",
       "    </tr>\n",
       "    <tr>\n",
       "      <th>3</th>\n",
       "      <td>brasilia</td>\n",
       "      <td>PR</td>\n",
       "      <td>watches_gifts</td>\n",
       "      <td>voucher</td>\n",
       "      <td>-</td>\n",
       "      <td>-</td>\n",
       "      <td>-</td>\n",
       "    </tr>\n",
       "    <tr>\n",
       "      <th>4</th>\n",
       "      <td>curitiba</td>\n",
       "      <td>RS</td>\n",
       "      <td>sports_leisure</td>\n",
       "      <td>-</td>\n",
       "      <td>-</td>\n",
       "      <td>-</td>\n",
       "      <td>-</td>\n",
       "    </tr>\n",
       "  </tbody>\n",
       "</table>\n",
       "</div>"
      ],
      "text/plain": [
       "  Top 5 Countries Top 5 States  Top 5 Products Payment Type  \\\n",
       "0       sao paulo           SP   health_beauty  credit_card   \n",
       "1  rio de janeiro           RJ  bed_bath_table       boleto   \n",
       "2  belo horizonte           MG      housewares   debit_card   \n",
       "3        brasilia           PR   watches_gifts      voucher   \n",
       "4        curitiba           RS  sports_leisure            -   \n",
       "\n",
       "  Delivery Date Diff Installment Average Spending  \n",
       "0              10.86         3.0            114.0  \n",
       "1                  -           -                -  \n",
       "2                  -           -                -  \n",
       "3                  -           -                -  \n",
       "4                  -           -                -  "
      ]
     },
     "execution_count": 39,
     "metadata": {},
     "output_type": "execute_result"
    }
   ],
   "source": [
    "cluster0_characteristics"
   ]
  },
  {
   "cell_type": "code",
   "execution_count": 40,
   "id": "european-carolina",
   "metadata": {},
   "outputs": [
    {
     "data": {
      "text/html": [
       "<div>\n",
       "<style scoped>\n",
       "    .dataframe tbody tr th:only-of-type {\n",
       "        vertical-align: middle;\n",
       "    }\n",
       "\n",
       "    .dataframe tbody tr th {\n",
       "        vertical-align: top;\n",
       "    }\n",
       "\n",
       "    .dataframe thead th {\n",
       "        text-align: right;\n",
       "    }\n",
       "</style>\n",
       "<table border=\"1\" class=\"dataframe\">\n",
       "  <thead>\n",
       "    <tr style=\"text-align: right;\">\n",
       "      <th></th>\n",
       "      <th>Top 5 Countries</th>\n",
       "      <th>Top 5 States</th>\n",
       "      <th>Top 5 Products</th>\n",
       "      <th>Payment Type</th>\n",
       "      <th>Delivery Date Diff</th>\n",
       "      <th>Installment</th>\n",
       "      <th>Average Spending</th>\n",
       "    </tr>\n",
       "  </thead>\n",
       "  <tbody>\n",
       "    <tr>\n",
       "      <th>0</th>\n",
       "      <td>sao paulo</td>\n",
       "      <td>SP</td>\n",
       "      <td>bed_bath_table</td>\n",
       "      <td>credit_card</td>\n",
       "      <td>10.6</td>\n",
       "      <td>2.0</td>\n",
       "      <td>44.3</td>\n",
       "    </tr>\n",
       "    <tr>\n",
       "      <th>1</th>\n",
       "      <td>rio de janeiro</td>\n",
       "      <td>RJ</td>\n",
       "      <td>health_beauty</td>\n",
       "      <td>boleto</td>\n",
       "      <td>-</td>\n",
       "      <td>-</td>\n",
       "      <td>-</td>\n",
       "    </tr>\n",
       "    <tr>\n",
       "      <th>2</th>\n",
       "      <td>belo horizonte</td>\n",
       "      <td>MG</td>\n",
       "      <td>telephony</td>\n",
       "      <td>voucher</td>\n",
       "      <td>-</td>\n",
       "      <td>-</td>\n",
       "      <td>-</td>\n",
       "    </tr>\n",
       "    <tr>\n",
       "      <th>3</th>\n",
       "      <td>brasilia</td>\n",
       "      <td>RS</td>\n",
       "      <td>sports_leisure</td>\n",
       "      <td>debit_card</td>\n",
       "      <td>-</td>\n",
       "      <td>-</td>\n",
       "      <td>-</td>\n",
       "    </tr>\n",
       "    <tr>\n",
       "      <th>4</th>\n",
       "      <td>campinas</td>\n",
       "      <td>PR</td>\n",
       "      <td>furniture_decor</td>\n",
       "      <td>-</td>\n",
       "      <td>-</td>\n",
       "      <td>-</td>\n",
       "      <td>-</td>\n",
       "    </tr>\n",
       "  </tbody>\n",
       "</table>\n",
       "</div>"
      ],
      "text/plain": [
       "  Top 5 Countries Top 5 States   Top 5 Products Payment Type  \\\n",
       "0       sao paulo           SP   bed_bath_table  credit_card   \n",
       "1  rio de janeiro           RJ    health_beauty       boleto   \n",
       "2  belo horizonte           MG        telephony      voucher   \n",
       "3        brasilia           RS   sports_leisure   debit_card   \n",
       "4        campinas           PR  furniture_decor            -   \n",
       "\n",
       "  Delivery Date Diff Installment Average Spending  \n",
       "0               10.6         2.0             44.3  \n",
       "1                  -           -                -  \n",
       "2                  -           -                -  \n",
       "3                  -           -                -  \n",
       "4                  -           -                -  "
      ]
     },
     "execution_count": 40,
     "metadata": {},
     "output_type": "execute_result"
    }
   ],
   "source": [
    "cluster1_characteristics"
   ]
  },
  {
   "cell_type": "code",
   "execution_count": 41,
   "id": "reliable-filling",
   "metadata": {},
   "outputs": [
    {
     "data": {
      "text/html": [
       "<div>\n",
       "<style scoped>\n",
       "    .dataframe tbody tr th:only-of-type {\n",
       "        vertical-align: middle;\n",
       "    }\n",
       "\n",
       "    .dataframe tbody tr th {\n",
       "        vertical-align: top;\n",
       "    }\n",
       "\n",
       "    .dataframe thead th {\n",
       "        text-align: right;\n",
       "    }\n",
       "</style>\n",
       "<table border=\"1\" class=\"dataframe\">\n",
       "  <thead>\n",
       "    <tr style=\"text-align: right;\">\n",
       "      <th></th>\n",
       "      <th>Top 5 Countries</th>\n",
       "      <th>Top 5 States</th>\n",
       "      <th>Top 5 Products</th>\n",
       "      <th>Payment Type</th>\n",
       "      <th>Delivery Date Diff</th>\n",
       "      <th>Installment</th>\n",
       "      <th>Average Spending</th>\n",
       "    </tr>\n",
       "  </thead>\n",
       "  <tbody>\n",
       "    <tr>\n",
       "      <th>0</th>\n",
       "      <td>sao paulo</td>\n",
       "      <td>SP</td>\n",
       "      <td>bed_bath_table</td>\n",
       "      <td>credit_card</td>\n",
       "      <td>11.23</td>\n",
       "      <td>3.0</td>\n",
       "      <td>230.0</td>\n",
       "    </tr>\n",
       "    <tr>\n",
       "      <th>1</th>\n",
       "      <td>rio de janeiro</td>\n",
       "      <td>RJ</td>\n",
       "      <td>furniture_decor</td>\n",
       "      <td>boleto</td>\n",
       "      <td>-</td>\n",
       "      <td>-</td>\n",
       "      <td>-</td>\n",
       "    </tr>\n",
       "    <tr>\n",
       "      <th>2</th>\n",
       "      <td>belo horizonte</td>\n",
       "      <td>MG</td>\n",
       "      <td>sports_leisure</td>\n",
       "      <td>voucher</td>\n",
       "      <td>-</td>\n",
       "      <td>-</td>\n",
       "      <td>-</td>\n",
       "    </tr>\n",
       "    <tr>\n",
       "      <th>3</th>\n",
       "      <td>brasilia</td>\n",
       "      <td>RS</td>\n",
       "      <td>health_beauty</td>\n",
       "      <td>debit_card</td>\n",
       "      <td>-</td>\n",
       "      <td>-</td>\n",
       "      <td>-</td>\n",
       "    </tr>\n",
       "    <tr>\n",
       "      <th>4</th>\n",
       "      <td>campinas</td>\n",
       "      <td>PR</td>\n",
       "      <td>computers_accessories</td>\n",
       "      <td>-</td>\n",
       "      <td>-</td>\n",
       "      <td>-</td>\n",
       "      <td>-</td>\n",
       "    </tr>\n",
       "  </tbody>\n",
       "</table>\n",
       "</div>"
      ],
      "text/plain": [
       "  Top 5 Countries Top 5 States         Top 5 Products Payment Type  \\\n",
       "0       sao paulo           SP         bed_bath_table  credit_card   \n",
       "1  rio de janeiro           RJ        furniture_decor       boleto   \n",
       "2  belo horizonte           MG         sports_leisure      voucher   \n",
       "3        brasilia           RS          health_beauty   debit_card   \n",
       "4        campinas           PR  computers_accessories            -   \n",
       "\n",
       "  Delivery Date Diff Installment Average Spending  \n",
       "0              11.23         3.0            230.0  \n",
       "1                  -           -                -  \n",
       "2                  -           -                -  \n",
       "3                  -           -                -  \n",
       "4                  -           -                -  "
      ]
     },
     "execution_count": 41,
     "metadata": {},
     "output_type": "execute_result"
    }
   ],
   "source": [
    "cluster2_characteristics"
   ]
  },
  {
   "cell_type": "code",
   "execution_count": 42,
   "id": "august-engineer",
   "metadata": {},
   "outputs": [
    {
     "data": {
      "text/html": [
       "<div>\n",
       "<style scoped>\n",
       "    .dataframe tbody tr th:only-of-type {\n",
       "        vertical-align: middle;\n",
       "    }\n",
       "\n",
       "    .dataframe tbody tr th {\n",
       "        vertical-align: top;\n",
       "    }\n",
       "\n",
       "    .dataframe thead th {\n",
       "        text-align: right;\n",
       "    }\n",
       "</style>\n",
       "<table border=\"1\" class=\"dataframe\">\n",
       "  <thead>\n",
       "    <tr style=\"text-align: right;\">\n",
       "      <th></th>\n",
       "      <th>Top 5 Countries</th>\n",
       "      <th>Top 5 States</th>\n",
       "      <th>Top 5 Products</th>\n",
       "      <th>Payment Type</th>\n",
       "      <th>Delivery Date Diff</th>\n",
       "      <th>Installment</th>\n",
       "      <th>Average Spending</th>\n",
       "    </tr>\n",
       "  </thead>\n",
       "  <tbody>\n",
       "    <tr>\n",
       "      <th>0</th>\n",
       "      <td>sao paulo</td>\n",
       "      <td>SP</td>\n",
       "      <td>bed_bath_table</td>\n",
       "      <td>credit_card</td>\n",
       "      <td>10.86</td>\n",
       "      <td>4.0</td>\n",
       "      <td>210.4</td>\n",
       "    </tr>\n",
       "    <tr>\n",
       "      <th>1</th>\n",
       "      <td>rio de janeiro</td>\n",
       "      <td>RJ</td>\n",
       "      <td>health_beauty</td>\n",
       "      <td>boleto</td>\n",
       "      <td>-</td>\n",
       "      <td>-</td>\n",
       "      <td>-</td>\n",
       "    </tr>\n",
       "    <tr>\n",
       "      <th>2</th>\n",
       "      <td>belo horizonte</td>\n",
       "      <td>MG</td>\n",
       "      <td>sports_leisure</td>\n",
       "      <td>voucher</td>\n",
       "      <td>-</td>\n",
       "      <td>-</td>\n",
       "      <td>-</td>\n",
       "    </tr>\n",
       "    <tr>\n",
       "      <th>3</th>\n",
       "      <td>brasilia</td>\n",
       "      <td>RS</td>\n",
       "      <td>watches_gifts</td>\n",
       "      <td>debit_card</td>\n",
       "      <td>-</td>\n",
       "      <td>-</td>\n",
       "      <td>-</td>\n",
       "    </tr>\n",
       "    <tr>\n",
       "      <th>4</th>\n",
       "      <td>curitiba</td>\n",
       "      <td>PR</td>\n",
       "      <td>computers_accessories</td>\n",
       "      <td>-</td>\n",
       "      <td>-</td>\n",
       "      <td>-</td>\n",
       "      <td>-</td>\n",
       "    </tr>\n",
       "  </tbody>\n",
       "</table>\n",
       "</div>"
      ],
      "text/plain": [
       "  Top 5 Countries Top 5 States         Top 5 Products Payment Type  \\\n",
       "0       sao paulo           SP         bed_bath_table  credit_card   \n",
       "1  rio de janeiro           RJ          health_beauty       boleto   \n",
       "2  belo horizonte           MG         sports_leisure      voucher   \n",
       "3        brasilia           RS          watches_gifts   debit_card   \n",
       "4        curitiba           PR  computers_accessories            -   \n",
       "\n",
       "  Delivery Date Diff Installment Average Spending  \n",
       "0              10.86         4.0            210.4  \n",
       "1                  -           -                -  \n",
       "2                  -           -                -  \n",
       "3                  -           -                -  \n",
       "4                  -           -                -  "
      ]
     },
     "execution_count": 42,
     "metadata": {},
     "output_type": "execute_result"
    }
   ],
   "source": [
    "cluster3_characteristics"
   ]
  },
  {
   "cell_type": "markdown",
   "id": "inside-annual",
   "metadata": {},
   "source": [
    "# Conclusion"
   ]
  },
  {
   "cell_type": "markdown",
   "id": "static-scottish",
   "metadata": {},
   "source": [
    "Unfortunately, the characteristics of each clusters are too similar to one another. So it is still difficult to assign new customers to their clusters. \n",
    "What we will need is more specific data like age, gender etc."
   ]
  },
  {
   "cell_type": "code",
   "execution_count": null,
   "id": "hollow-publication",
   "metadata": {},
   "outputs": [],
   "source": []
  }
 ],
 "metadata": {
  "kernelspec": {
   "display_name": "Python 3",
   "language": "python",
   "name": "python3"
  },
  "language_info": {
   "codemirror_mode": {
    "name": "ipython",
    "version": 3
   },
   "file_extension": ".py",
   "mimetype": "text/x-python",
   "name": "python",
   "nbconvert_exporter": "python",
   "pygments_lexer": "ipython3",
   "version": "3.8.5"
  }
 },
 "nbformat": 4,
 "nbformat_minor": 5
}
