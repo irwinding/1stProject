{
 "cells": [
  {
   "cell_type": "markdown",
   "metadata": {},
   "source": [
    "# Exploratory Data Analysis Pt2\n",
    "\n",
    "This is the second part of our data analysis. We wanted to seperate customers who bought multiple times and those that bought only once and find out what variables affect the return rate of the customers."
   ]
  },
  {
   "cell_type": "code",
   "execution_count": 1,
   "metadata": {},
   "outputs": [],
   "source": [
    "# Basic Libraries\n",
    "import numpy as np\n",
    "import pandas as pd\n",
    "import seaborn as sb\n",
    "import matplotlib.pyplot as plt # we only need pyplot\n",
    "import re\n",
    "sb.set() # set the default Seaborn style for graphics\n",
    "\n",
    "# Import essential models and functions from sklearn\n",
    "from sklearn.linear_model import LinearRegression\n",
    "from sklearn.model_selection import train_test_split\n",
    "\n",
    "from sklearn.metrics import mean_squared_error\n",
    "from sklearn.metrics import confusion_matrix\n",
    "\n",
    "from sklearn.tree import DecisionTreeClassifier\n",
    "from sklearn.tree import plot_tree\n",
    "\n",
    "# Import RandomForestClassifier model from Scikit-Learn\n",
    "from sklearn.ensemble import RandomForestClassifier\n",
    "\n",
    "# Import KMeans from sklearn.cluster\n",
    "from sklearn.cluster import KMeans\n",
    "\n",
    "# Import LocalOutlierFactor from sklearn.neighbors\n",
    "from sklearn.neighbors import LocalOutlierFactor\n",
    "\n",
    "# Create a Linear Regression object\n",
    "linreg = LinearRegression()\n",
    "\n",
    "# Create a Decision Tree Classifier object\n",
    "dectree = DecisionTreeClassifier(max_depth = 2)"
   ]
  },
  {
   "cell_type": "code",
   "execution_count": 2,
   "metadata": {},
   "outputs": [],
   "source": [
    "customers = pd.read_csv('olist_customers_dataset.csv')\n",
    "orderitems = pd.read_csv('olist_order_items_dataset.csv')\n",
    "payments = pd.read_csv('olist_order_payments_dataset.csv')\n",
    "reviews = pd.read_csv('olist_order_reviews_dataset.csv')\n",
    "orders = pd.read_csv('olist_orders_dataset.csv')\n",
    "products = pd.read_csv('olist_products_dataset.csv')\n",
    "sellers = pd.read_csv('olist_sellers_dataset.csv')\n",
    "productcat = pd.read_csv('product_category_name_translation.csv')"
   ]
  },
  {
   "cell_type": "markdown",
   "metadata": {},
   "source": [
    "# Merging Data\n",
    "\n",
    "Merge customers,orders,reviews,sellers and product categories"
   ]
  },
  {
   "cell_type": "code",
   "execution_count": 3,
   "metadata": {},
   "outputs": [
    {
     "name": "stdout",
     "output_type": "stream",
     "text": [
      "<class 'pandas.core.frame.DataFrame'>\n",
      "Int64Index: 99441 entries, 0 to 99440\n",
      "Data columns (total 12 columns):\n",
      " #   Column                         Non-Null Count  Dtype \n",
      "---  ------                         --------------  ----- \n",
      " 0   customer_id                    99441 non-null  object\n",
      " 1   customer_unique_id             99441 non-null  object\n",
      " 2   customer_zip_code_prefix       99441 non-null  int64 \n",
      " 3   customer_city                  99441 non-null  object\n",
      " 4   customer_state                 99441 non-null  object\n",
      " 5   order_id                       99441 non-null  object\n",
      " 6   order_status                   99441 non-null  object\n",
      " 7   order_purchase_timestamp       99441 non-null  object\n",
      " 8   order_approved_at              99281 non-null  object\n",
      " 9   order_delivered_carrier_date   97658 non-null  object\n",
      " 10  order_delivered_customer_date  96476 non-null  object\n",
      " 11  order_estimated_delivery_date  99441 non-null  object\n",
      "dtypes: int64(1), object(11)\n",
      "memory usage: 9.9+ MB\n"
     ]
    }
   ],
   "source": [
    "customersandorders = pd.merge(customers, orders, on = 'customer_id')\n",
    "customersandorders.info()"
   ]
  },
  {
   "cell_type": "code",
   "execution_count": 4,
   "metadata": {},
   "outputs": [
    {
     "name": "stdout",
     "output_type": "stream",
     "text": [
      "<class 'pandas.core.frame.DataFrame'>\n",
      "Int64Index: 103886 entries, 0 to 103885\n",
      "Data columns (total 16 columns):\n",
      " #   Column                         Non-Null Count   Dtype  \n",
      "---  ------                         --------------   -----  \n",
      " 0   customer_id                    103886 non-null  object \n",
      " 1   customer_unique_id             103886 non-null  object \n",
      " 2   customer_zip_code_prefix       103886 non-null  int64  \n",
      " 3   customer_city                  103886 non-null  object \n",
      " 4   customer_state                 103886 non-null  object \n",
      " 5   order_id                       103886 non-null  object \n",
      " 6   order_status                   103886 non-null  object \n",
      " 7   order_purchase_timestamp       103886 non-null  object \n",
      " 8   order_approved_at              103711 non-null  object \n",
      " 9   order_delivered_carrier_date   101998 non-null  object \n",
      " 10  order_delivered_customer_date  100754 non-null  object \n",
      " 11  order_estimated_delivery_date  103886 non-null  object \n",
      " 12  payment_sequential             103886 non-null  int64  \n",
      " 13  payment_type                   103886 non-null  object \n",
      " 14  payment_installments           103886 non-null  int64  \n",
      " 15  payment_value                  103886 non-null  float64\n",
      "dtypes: float64(1), int64(3), object(12)\n",
      "memory usage: 13.5+ MB\n"
     ]
    }
   ],
   "source": [
    "PCO = pd.merge(customersandorders, payments, on = 'order_id')\n",
    "PCO.info()"
   ]
  },
  {
   "cell_type": "code",
   "execution_count": 5,
   "metadata": {},
   "outputs": [],
   "source": [
    "PCO=PCO.drop_duplicates(subset=['order_id'])"
   ]
  },
  {
   "cell_type": "code",
   "execution_count": 6,
   "metadata": {},
   "outputs": [],
   "source": [
    "PCOR=pd.merge(PCO,reviews,on='order_id')\n",
    "PCOR=PCOR.drop_duplicates(subset=['order_id'])"
   ]
  },
  {
   "cell_type": "code",
   "execution_count": 7,
   "metadata": {},
   "outputs": [],
   "source": [
    "PCORP=pd.merge(PCOR,orderitems,on='order_id')\n",
    "PCORP=PCORP.drop_duplicates(subset=['order_id'])"
   ]
  },
  {
   "cell_type": "code",
   "execution_count": 8,
   "metadata": {},
   "outputs": [],
   "source": [
    "PCORPP=pd.merge(PCORP,products,on='product_id')\n",
    "PCORPP=PCORPP.drop_duplicates(subset=['order_id'])"
   ]
  },
  {
   "cell_type": "code",
   "execution_count": 9,
   "metadata": {},
   "outputs": [],
   "source": [
    "new_data=pd.merge(PCORPP,productcat,on='product_category_name')"
   ]
  },
  {
   "cell_type": "code",
   "execution_count": 10,
   "metadata": {},
   "outputs": [],
   "source": [
    "new_data=new_data.drop(columns=['customer_zip_code_prefix','order_approved_at','order_delivered_carrier_date','product_category_name',\n",
    "                               'product_name_lenght','product_description_lenght','product_photos_qty','product_weight_g','product_length_cm',\n",
    "                               'product_height_cm','product_width_cm'])"
   ]
  },
  {
   "cell_type": "code",
   "execution_count": 11,
   "metadata": {},
   "outputs": [
    {
     "name": "stdout",
     "output_type": "stream",
     "text": [
      "<class 'pandas.core.frame.DataFrame'>\n",
      "Int64Index: 97228 entries, 0 to 97227\n",
      "Data columns (total 26 columns):\n",
      " #   Column                         Non-Null Count  Dtype  \n",
      "---  ------                         --------------  -----  \n",
      " 0   customer_id                    97228 non-null  object \n",
      " 1   customer_unique_id             97228 non-null  object \n",
      " 2   customer_city                  97228 non-null  object \n",
      " 3   customer_state                 97228 non-null  object \n",
      " 4   order_id                       97228 non-null  object \n",
      " 5   order_status                   97228 non-null  object \n",
      " 6   order_purchase_timestamp       97228 non-null  object \n",
      " 7   order_delivered_customer_date  95097 non-null  object \n",
      " 8   order_estimated_delivery_date  97228 non-null  object \n",
      " 9   payment_sequential             97228 non-null  int64  \n",
      " 10  payment_type                   97228 non-null  object \n",
      " 11  payment_installments           97228 non-null  int64  \n",
      " 12  payment_value                  97228 non-null  float64\n",
      " 13  review_id                      97228 non-null  object \n",
      " 14  review_score                   97228 non-null  int64  \n",
      " 15  review_comment_title           11530 non-null  object \n",
      " 16  review_comment_message         40388 non-null  object \n",
      " 17  review_creation_date           97228 non-null  object \n",
      " 18  review_answer_timestamp        97228 non-null  object \n",
      " 19  order_item_id                  97228 non-null  int64  \n",
      " 20  product_id                     97228 non-null  object \n",
      " 21  seller_id                      97228 non-null  object \n",
      " 22  shipping_limit_date            97228 non-null  object \n",
      " 23  price                          97228 non-null  float64\n",
      " 24  freight_value                  97228 non-null  float64\n",
      " 25  product_category_name_english  97228 non-null  object \n",
      "dtypes: float64(3), int64(4), object(19)\n",
      "memory usage: 20.0+ MB\n"
     ]
    }
   ],
   "source": [
    "new_data.info()"
   ]
  },
  {
   "cell_type": "code",
   "execution_count": 12,
   "metadata": {},
   "outputs": [],
   "source": [
    "new_data=new_data.drop(columns=['review_answer_timestamp','shipping_limit_date'])"
   ]
  },
  {
   "cell_type": "code",
   "execution_count": 13,
   "metadata": {},
   "outputs": [],
   "source": [
    "new_data['order_purchase_timestamp'] = pd.to_datetime(new_data['order_purchase_timestamp'], format='%Y-%m-%d %H:%M:%S')"
   ]
  },
  {
   "cell_type": "code",
   "execution_count": 14,
   "metadata": {},
   "outputs": [],
   "source": [
    "new_data['order_delivered_customer_date'] = pd.to_datetime(new_data['order_delivered_customer_date'], format='%Y-%m-%d %H:%M:%S')"
   ]
  },
  {
   "cell_type": "code",
   "execution_count": 15,
   "metadata": {},
   "outputs": [],
   "source": [
    "delivery_time=new_data['order_delivered_customer_date']-new_data['order_purchase_timestamp']\n",
    "delivery_time=delivery_time.dt.round(\"D\")"
   ]
  },
  {
   "cell_type": "code",
   "execution_count": 16,
   "metadata": {},
   "outputs": [],
   "source": [
    "new_data['delivery_time']=delivery_time"
   ]
  },
  {
   "cell_type": "code",
   "execution_count": 17,
   "metadata": {},
   "outputs": [
    {
     "data": {
      "text/html": [
       "<div>\n",
       "<style scoped>\n",
       "    .dataframe tbody tr th:only-of-type {\n",
       "        vertical-align: middle;\n",
       "    }\n",
       "\n",
       "    .dataframe tbody tr th {\n",
       "        vertical-align: top;\n",
       "    }\n",
       "\n",
       "    .dataframe thead th {\n",
       "        text-align: right;\n",
       "    }\n",
       "</style>\n",
       "<table border=\"1\" class=\"dataframe\">\n",
       "  <thead>\n",
       "    <tr style=\"text-align: right;\">\n",
       "      <th></th>\n",
       "      <th>customer_id</th>\n",
       "      <th>customer_unique_id</th>\n",
       "      <th>customer_city</th>\n",
       "      <th>customer_state</th>\n",
       "      <th>order_id</th>\n",
       "      <th>order_status</th>\n",
       "      <th>order_purchase_timestamp</th>\n",
       "      <th>order_delivered_customer_date</th>\n",
       "      <th>order_estimated_delivery_date</th>\n",
       "      <th>payment_sequential</th>\n",
       "      <th>...</th>\n",
       "      <th>review_comment_title</th>\n",
       "      <th>review_comment_message</th>\n",
       "      <th>review_creation_date</th>\n",
       "      <th>order_item_id</th>\n",
       "      <th>product_id</th>\n",
       "      <th>seller_id</th>\n",
       "      <th>price</th>\n",
       "      <th>freight_value</th>\n",
       "      <th>product_category_name_english</th>\n",
       "      <th>delivery_time</th>\n",
       "    </tr>\n",
       "  </thead>\n",
       "  <tbody>\n",
       "    <tr>\n",
       "      <th>0</th>\n",
       "      <td>06b8999e2fba1a1fbc88172c00ba8bc7</td>\n",
       "      <td>861eff4711a542e4b93843c6dd7febb0</td>\n",
       "      <td>franca</td>\n",
       "      <td>SP</td>\n",
       "      <td>00e7ee1b050b8499577073aeb2a297a1</td>\n",
       "      <td>delivered</td>\n",
       "      <td>2017-05-16 15:05:35</td>\n",
       "      <td>2017-05-25 10:35:35</td>\n",
       "      <td>2017-06-05 00:00:00</td>\n",
       "      <td>1</td>\n",
       "      <td>...</td>\n",
       "      <td>NaN</td>\n",
       "      <td>NaN</td>\n",
       "      <td>2017-05-26 00:00:00</td>\n",
       "      <td>1</td>\n",
       "      <td>a9516a079e37a9c9c36b9b78b10169e8</td>\n",
       "      <td>7c67e1448b00f6e969d365cea6b010ab</td>\n",
       "      <td>124.99</td>\n",
       "      <td>21.88</td>\n",
       "      <td>office_furniture</td>\n",
       "      <td>9 days</td>\n",
       "    </tr>\n",
       "    <tr>\n",
       "      <th>1</th>\n",
       "      <td>8912fc0c3bbf1e2fbf35819e21706718</td>\n",
       "      <td>9eae34bbd3a474ec5d07949ca7de67c0</td>\n",
       "      <td>santarem</td>\n",
       "      <td>PA</td>\n",
       "      <td>c1d2b34febe9cd269e378117d6681172</td>\n",
       "      <td>delivered</td>\n",
       "      <td>2017-11-09 00:50:13</td>\n",
       "      <td>2017-11-28 00:09:50</td>\n",
       "      <td>2017-12-19 00:00:00</td>\n",
       "      <td>1</td>\n",
       "      <td>...</td>\n",
       "      <td>NaN</td>\n",
       "      <td>GOSTARIA DE UMA SOLUÇÃO, ESTOU PRECISANDO MUIT...</td>\n",
       "      <td>2017-11-29 00:00:00</td>\n",
       "      <td>1</td>\n",
       "      <td>a9516a079e37a9c9c36b9b78b10169e8</td>\n",
       "      <td>7c67e1448b00f6e969d365cea6b010ab</td>\n",
       "      <td>112.99</td>\n",
       "      <td>24.90</td>\n",
       "      <td>office_furniture</td>\n",
       "      <td>19 days</td>\n",
       "    </tr>\n",
       "    <tr>\n",
       "      <th>2</th>\n",
       "      <td>f0ac8e5a239118859b1734e1087cbb1f</td>\n",
       "      <td>3c799d181c34d51f6d44bbbc563024db</td>\n",
       "      <td>nova santa rita</td>\n",
       "      <td>RS</td>\n",
       "      <td>b1a5d5365d330d10485e0203d54ab9e8</td>\n",
       "      <td>delivered</td>\n",
       "      <td>2017-05-07 20:11:26</td>\n",
       "      <td>2017-05-26 09:54:04</td>\n",
       "      <td>2017-06-12 00:00:00</td>\n",
       "      <td>1</td>\n",
       "      <td>...</td>\n",
       "      <td>NaN</td>\n",
       "      <td>Produto compatível com seu valor, muito bonito...</td>\n",
       "      <td>2017-05-27 00:00:00</td>\n",
       "      <td>1</td>\n",
       "      <td>a9516a079e37a9c9c36b9b78b10169e8</td>\n",
       "      <td>7c67e1448b00f6e969d365cea6b010ab</td>\n",
       "      <td>124.99</td>\n",
       "      <td>15.62</td>\n",
       "      <td>office_furniture</td>\n",
       "      <td>19 days</td>\n",
       "    </tr>\n",
       "    <tr>\n",
       "      <th>3</th>\n",
       "      <td>6bc8d08963a135220ed6c6d098831f84</td>\n",
       "      <td>23397e992b09769faf5e66f9e171a241</td>\n",
       "      <td>mage</td>\n",
       "      <td>RJ</td>\n",
       "      <td>2e604b3614664aa66867856dba7e61b7</td>\n",
       "      <td>delivered</td>\n",
       "      <td>2018-02-03 19:45:40</td>\n",
       "      <td>2018-02-28 21:09:00</td>\n",
       "      <td>2018-03-22 00:00:00</td>\n",
       "      <td>1</td>\n",
       "      <td>...</td>\n",
       "      <td>NaN</td>\n",
       "      <td>Entregou antes do prazo</td>\n",
       "      <td>2018-03-01 00:00:00</td>\n",
       "      <td>1</td>\n",
       "      <td>a9516a079e37a9c9c36b9b78b10169e8</td>\n",
       "      <td>7c67e1448b00f6e969d365cea6b010ab</td>\n",
       "      <td>106.99</td>\n",
       "      <td>30.59</td>\n",
       "      <td>office_furniture</td>\n",
       "      <td>25 days</td>\n",
       "    </tr>\n",
       "    <tr>\n",
       "      <th>4</th>\n",
       "      <td>fd3a0b1bd209f0e7d420c9c3d1127613</td>\n",
       "      <td>567ab47ca4deb92d46dbf54dce07d0a7</td>\n",
       "      <td>angelina</td>\n",
       "      <td>SC</td>\n",
       "      <td>574fe1739f65af76badd0999db300b4f</td>\n",
       "      <td>delivered</td>\n",
       "      <td>2017-03-23 15:10:17</td>\n",
       "      <td>2017-04-11 10:16:56</td>\n",
       "      <td>2017-04-24 00:00:00</td>\n",
       "      <td>1</td>\n",
       "      <td>...</td>\n",
       "      <td>NaN</td>\n",
       "      <td>NaN</td>\n",
       "      <td>2017-04-12 00:00:00</td>\n",
       "      <td>1</td>\n",
       "      <td>a9516a079e37a9c9c36b9b78b10169e8</td>\n",
       "      <td>7c67e1448b00f6e969d365cea6b010ab</td>\n",
       "      <td>126.99</td>\n",
       "      <td>15.06</td>\n",
       "      <td>office_furniture</td>\n",
       "      <td>19 days</td>\n",
       "    </tr>\n",
       "    <tr>\n",
       "      <th>...</th>\n",
       "      <td>...</td>\n",
       "      <td>...</td>\n",
       "      <td>...</td>\n",
       "      <td>...</td>\n",
       "      <td>...</td>\n",
       "      <td>...</td>\n",
       "      <td>...</td>\n",
       "      <td>...</td>\n",
       "      <td>...</td>\n",
       "      <td>...</td>\n",
       "      <td>...</td>\n",
       "      <td>...</td>\n",
       "      <td>...</td>\n",
       "      <td>...</td>\n",
       "      <td>...</td>\n",
       "      <td>...</td>\n",
       "      <td>...</td>\n",
       "      <td>...</td>\n",
       "      <td>...</td>\n",
       "      <td>...</td>\n",
       "      <td>...</td>\n",
       "    </tr>\n",
       "    <tr>\n",
       "      <th>97223</th>\n",
       "      <td>8325d6e7af2f2bfb58cf040729b232dd</td>\n",
       "      <td>a1d53377ab83871b0ad483b03ac69d6c</td>\n",
       "      <td>sao paulo</td>\n",
       "      <td>SP</td>\n",
       "      <td>b99217b1fcf2fdeace7b8d869b76cb91</td>\n",
       "      <td>delivered</td>\n",
       "      <td>2018-03-07 17:42:06</td>\n",
       "      <td>2018-03-15 22:04:49</td>\n",
       "      <td>2018-04-02 00:00:00</td>\n",
       "      <td>1</td>\n",
       "      <td>...</td>\n",
       "      <td>NaN</td>\n",
       "      <td>NaN</td>\n",
       "      <td>2018-03-16 00:00:00</td>\n",
       "      <td>1</td>\n",
       "      <td>57bdf3098169cccdb62221bd3e089cbd</td>\n",
       "      <td>d98eec89afa3380e14463da2aabaea72</td>\n",
       "      <td>39.99</td>\n",
       "      <td>10.15</td>\n",
       "      <td>fashion_childrens_clothes</td>\n",
       "      <td>8 days</td>\n",
       "    </tr>\n",
       "    <tr>\n",
       "      <th>97224</th>\n",
       "      <td>85485f38b20ed1e287120d30cf39ee7d</td>\n",
       "      <td>f979a07fc18b2af3780a796ba14b96f4</td>\n",
       "      <td>sao paulo</td>\n",
       "      <td>SP</td>\n",
       "      <td>9fa3a005f89a187501fa1bd63d6125fb</td>\n",
       "      <td>delivered</td>\n",
       "      <td>2017-10-08 23:51:49</td>\n",
       "      <td>2017-10-16 21:59:33</td>\n",
       "      <td>2017-11-08 00:00:00</td>\n",
       "      <td>1</td>\n",
       "      <td>...</td>\n",
       "      <td>NaN</td>\n",
       "      <td>NaN</td>\n",
       "      <td>2017-10-17 00:00:00</td>\n",
       "      <td>1</td>\n",
       "      <td>57bdf3098169cccdb62221bd3e089cbd</td>\n",
       "      <td>d98eec89afa3380e14463da2aabaea72</td>\n",
       "      <td>39.99</td>\n",
       "      <td>14.10</td>\n",
       "      <td>fashion_childrens_clothes</td>\n",
       "      <td>8 days</td>\n",
       "    </tr>\n",
       "    <tr>\n",
       "      <th>97225</th>\n",
       "      <td>14acb30bbc064408dcb8cdd3c92b0c97</td>\n",
       "      <td>1b553902a5bbe6ee54a3aaa7cbfb6816</td>\n",
       "      <td>nova iguacu</td>\n",
       "      <td>RJ</td>\n",
       "      <td>ee86b68eb9222b0cad7da50f4f758a35</td>\n",
       "      <td>delivered</td>\n",
       "      <td>2017-05-17 17:44:34</td>\n",
       "      <td>2017-05-20 08:44:01</td>\n",
       "      <td>2017-06-09 00:00:00</td>\n",
       "      <td>1</td>\n",
       "      <td>...</td>\n",
       "      <td>NaN</td>\n",
       "      <td>NaN</td>\n",
       "      <td>2017-05-21 00:00:00</td>\n",
       "      <td>1</td>\n",
       "      <td>0ab3ab3b2869073aa9afe795fe9151aa</td>\n",
       "      <td>28ea411b354f14b1a494be4e79f0ce02</td>\n",
       "      <td>110.00</td>\n",
       "      <td>14.52</td>\n",
       "      <td>fashion_childrens_clothes</td>\n",
       "      <td>3 days</td>\n",
       "    </tr>\n",
       "    <tr>\n",
       "      <th>97226</th>\n",
       "      <td>363d3a9b2ec5c5426608688ca033292d</td>\n",
       "      <td>d8bee9ec375c3a0f9ef8ed7456a51dcd</td>\n",
       "      <td>rolim de moura</td>\n",
       "      <td>RO</td>\n",
       "      <td>2c4ada2e75c2ad41dd93cebb5df5f023</td>\n",
       "      <td>delivered</td>\n",
       "      <td>2017-01-26 11:09:00</td>\n",
       "      <td>2017-02-14 16:24:01</td>\n",
       "      <td>2017-03-07 00:00:00</td>\n",
       "      <td>1</td>\n",
       "      <td>...</td>\n",
       "      <td>NaN</td>\n",
       "      <td>Envio muito rápido. Recomendo.</td>\n",
       "      <td>2017-02-15 00:00:00</td>\n",
       "      <td>1</td>\n",
       "      <td>6c7a0a349ad11817745e3ad58abd5c79</td>\n",
       "      <td>48162d548f5b1b11b9d29d1e01f75a61</td>\n",
       "      <td>183.29</td>\n",
       "      <td>25.77</td>\n",
       "      <td>security_and_services</td>\n",
       "      <td>19 days</td>\n",
       "    </tr>\n",
       "    <tr>\n",
       "      <th>97227</th>\n",
       "      <td>919570a26efbd068d6a0f66d5c5072a3</td>\n",
       "      <td>141e824b8e0df709e3fcf6d982225a8e</td>\n",
       "      <td>brasilia</td>\n",
       "      <td>DF</td>\n",
       "      <td>bede3503afed051733eeb4a84d1adcc5</td>\n",
       "      <td>delivered</td>\n",
       "      <td>2017-09-17 16:51:43</td>\n",
       "      <td>2017-09-28 18:14:35</td>\n",
       "      <td>2017-10-11 00:00:00</td>\n",
       "      <td>1</td>\n",
       "      <td>...</td>\n",
       "      <td>NaN</td>\n",
       "      <td>boa tarde produto enviado errado, terei que me...</td>\n",
       "      <td>2017-09-29 00:00:00</td>\n",
       "      <td>1</td>\n",
       "      <td>8db75af9aed3315374db44d7860e25da</td>\n",
       "      <td>4e922959ae960d389249c378d1c939f5</td>\n",
       "      <td>100.00</td>\n",
       "      <td>15.45</td>\n",
       "      <td>security_and_services</td>\n",
       "      <td>11 days</td>\n",
       "    </tr>\n",
       "  </tbody>\n",
       "</table>\n",
       "<p>97228 rows × 25 columns</p>\n",
       "</div>"
      ],
      "text/plain": [
       "                            customer_id                customer_unique_id  \\\n",
       "0      06b8999e2fba1a1fbc88172c00ba8bc7  861eff4711a542e4b93843c6dd7febb0   \n",
       "1      8912fc0c3bbf1e2fbf35819e21706718  9eae34bbd3a474ec5d07949ca7de67c0   \n",
       "2      f0ac8e5a239118859b1734e1087cbb1f  3c799d181c34d51f6d44bbbc563024db   \n",
       "3      6bc8d08963a135220ed6c6d098831f84  23397e992b09769faf5e66f9e171a241   \n",
       "4      fd3a0b1bd209f0e7d420c9c3d1127613  567ab47ca4deb92d46dbf54dce07d0a7   \n",
       "...                                 ...                               ...   \n",
       "97223  8325d6e7af2f2bfb58cf040729b232dd  a1d53377ab83871b0ad483b03ac69d6c   \n",
       "97224  85485f38b20ed1e287120d30cf39ee7d  f979a07fc18b2af3780a796ba14b96f4   \n",
       "97225  14acb30bbc064408dcb8cdd3c92b0c97  1b553902a5bbe6ee54a3aaa7cbfb6816   \n",
       "97226  363d3a9b2ec5c5426608688ca033292d  d8bee9ec375c3a0f9ef8ed7456a51dcd   \n",
       "97227  919570a26efbd068d6a0f66d5c5072a3  141e824b8e0df709e3fcf6d982225a8e   \n",
       "\n",
       "         customer_city customer_state                          order_id  \\\n",
       "0               franca             SP  00e7ee1b050b8499577073aeb2a297a1   \n",
       "1             santarem             PA  c1d2b34febe9cd269e378117d6681172   \n",
       "2      nova santa rita             RS  b1a5d5365d330d10485e0203d54ab9e8   \n",
       "3                 mage             RJ  2e604b3614664aa66867856dba7e61b7   \n",
       "4             angelina             SC  574fe1739f65af76badd0999db300b4f   \n",
       "...                ...            ...                               ...   \n",
       "97223        sao paulo             SP  b99217b1fcf2fdeace7b8d869b76cb91   \n",
       "97224        sao paulo             SP  9fa3a005f89a187501fa1bd63d6125fb   \n",
       "97225      nova iguacu             RJ  ee86b68eb9222b0cad7da50f4f758a35   \n",
       "97226   rolim de moura             RO  2c4ada2e75c2ad41dd93cebb5df5f023   \n",
       "97227         brasilia             DF  bede3503afed051733eeb4a84d1adcc5   \n",
       "\n",
       "      order_status order_purchase_timestamp order_delivered_customer_date  \\\n",
       "0        delivered      2017-05-16 15:05:35           2017-05-25 10:35:35   \n",
       "1        delivered      2017-11-09 00:50:13           2017-11-28 00:09:50   \n",
       "2        delivered      2017-05-07 20:11:26           2017-05-26 09:54:04   \n",
       "3        delivered      2018-02-03 19:45:40           2018-02-28 21:09:00   \n",
       "4        delivered      2017-03-23 15:10:17           2017-04-11 10:16:56   \n",
       "...            ...                      ...                           ...   \n",
       "97223    delivered      2018-03-07 17:42:06           2018-03-15 22:04:49   \n",
       "97224    delivered      2017-10-08 23:51:49           2017-10-16 21:59:33   \n",
       "97225    delivered      2017-05-17 17:44:34           2017-05-20 08:44:01   \n",
       "97226    delivered      2017-01-26 11:09:00           2017-02-14 16:24:01   \n",
       "97227    delivered      2017-09-17 16:51:43           2017-09-28 18:14:35   \n",
       "\n",
       "      order_estimated_delivery_date  payment_sequential  ...  \\\n",
       "0               2017-06-05 00:00:00                   1  ...   \n",
       "1               2017-12-19 00:00:00                   1  ...   \n",
       "2               2017-06-12 00:00:00                   1  ...   \n",
       "3               2018-03-22 00:00:00                   1  ...   \n",
       "4               2017-04-24 00:00:00                   1  ...   \n",
       "...                             ...                 ...  ...   \n",
       "97223           2018-04-02 00:00:00                   1  ...   \n",
       "97224           2017-11-08 00:00:00                   1  ...   \n",
       "97225           2017-06-09 00:00:00                   1  ...   \n",
       "97226           2017-03-07 00:00:00                   1  ...   \n",
       "97227           2017-10-11 00:00:00                   1  ...   \n",
       "\n",
       "      review_comment_title                             review_comment_message  \\\n",
       "0                      NaN                                                NaN   \n",
       "1                      NaN  GOSTARIA DE UMA SOLUÇÃO, ESTOU PRECISANDO MUIT...   \n",
       "2                      NaN  Produto compatível com seu valor, muito bonito...   \n",
       "3                      NaN                            Entregou antes do prazo   \n",
       "4                      NaN                                                NaN   \n",
       "...                    ...                                                ...   \n",
       "97223                  NaN                                                NaN   \n",
       "97224                  NaN                                                NaN   \n",
       "97225                  NaN                                                NaN   \n",
       "97226                  NaN                     Envio muito rápido. Recomendo.   \n",
       "97227                  NaN  boa tarde produto enviado errado, terei que me...   \n",
       "\n",
       "       review_creation_date order_item_id                        product_id  \\\n",
       "0       2017-05-26 00:00:00             1  a9516a079e37a9c9c36b9b78b10169e8   \n",
       "1       2017-11-29 00:00:00             1  a9516a079e37a9c9c36b9b78b10169e8   \n",
       "2       2017-05-27 00:00:00             1  a9516a079e37a9c9c36b9b78b10169e8   \n",
       "3       2018-03-01 00:00:00             1  a9516a079e37a9c9c36b9b78b10169e8   \n",
       "4       2017-04-12 00:00:00             1  a9516a079e37a9c9c36b9b78b10169e8   \n",
       "...                     ...           ...                               ...   \n",
       "97223   2018-03-16 00:00:00             1  57bdf3098169cccdb62221bd3e089cbd   \n",
       "97224   2017-10-17 00:00:00             1  57bdf3098169cccdb62221bd3e089cbd   \n",
       "97225   2017-05-21 00:00:00             1  0ab3ab3b2869073aa9afe795fe9151aa   \n",
       "97226   2017-02-15 00:00:00             1  6c7a0a349ad11817745e3ad58abd5c79   \n",
       "97227   2017-09-29 00:00:00             1  8db75af9aed3315374db44d7860e25da   \n",
       "\n",
       "                              seller_id   price freight_value  \\\n",
       "0      7c67e1448b00f6e969d365cea6b010ab  124.99         21.88   \n",
       "1      7c67e1448b00f6e969d365cea6b010ab  112.99         24.90   \n",
       "2      7c67e1448b00f6e969d365cea6b010ab  124.99         15.62   \n",
       "3      7c67e1448b00f6e969d365cea6b010ab  106.99         30.59   \n",
       "4      7c67e1448b00f6e969d365cea6b010ab  126.99         15.06   \n",
       "...                                 ...     ...           ...   \n",
       "97223  d98eec89afa3380e14463da2aabaea72   39.99         10.15   \n",
       "97224  d98eec89afa3380e14463da2aabaea72   39.99         14.10   \n",
       "97225  28ea411b354f14b1a494be4e79f0ce02  110.00         14.52   \n",
       "97226  48162d548f5b1b11b9d29d1e01f75a61  183.29         25.77   \n",
       "97227  4e922959ae960d389249c378d1c939f5  100.00         15.45   \n",
       "\n",
       "       product_category_name_english delivery_time  \n",
       "0                   office_furniture        9 days  \n",
       "1                   office_furniture       19 days  \n",
       "2                   office_furniture       19 days  \n",
       "3                   office_furniture       25 days  \n",
       "4                   office_furniture       19 days  \n",
       "...                              ...           ...  \n",
       "97223      fashion_childrens_clothes        8 days  \n",
       "97224      fashion_childrens_clothes        8 days  \n",
       "97225      fashion_childrens_clothes        3 days  \n",
       "97226          security_and_services       19 days  \n",
       "97227          security_and_services       11 days  \n",
       "\n",
       "[97228 rows x 25 columns]"
      ]
     },
     "execution_count": 17,
     "metadata": {},
     "output_type": "execute_result"
    }
   ],
   "source": [
    "new_data.drop_duplicates(subset=['order_id'])"
   ]
  },
  {
   "cell_type": "code",
   "execution_count": 18,
   "metadata": {},
   "outputs": [
    {
     "name": "stdout",
     "output_type": "stream",
     "text": [
      "<class 'pandas.core.frame.DataFrame'>\n",
      "Int64Index: 97228 entries, 0 to 97227\n",
      "Data columns (total 25 columns):\n",
      " #   Column                         Non-Null Count  Dtype          \n",
      "---  ------                         --------------  -----          \n",
      " 0   customer_id                    97228 non-null  object         \n",
      " 1   customer_unique_id             97228 non-null  object         \n",
      " 2   customer_city                  97228 non-null  object         \n",
      " 3   customer_state                 97228 non-null  object         \n",
      " 4   order_id                       97228 non-null  object         \n",
      " 5   order_status                   97228 non-null  object         \n",
      " 6   order_purchase_timestamp       97228 non-null  datetime64[ns] \n",
      " 7   order_delivered_customer_date  95097 non-null  datetime64[ns] \n",
      " 8   order_estimated_delivery_date  97228 non-null  object         \n",
      " 9   payment_sequential             97228 non-null  int64          \n",
      " 10  payment_type                   97228 non-null  object         \n",
      " 11  payment_installments           97228 non-null  int64          \n",
      " 12  payment_value                  97228 non-null  float64        \n",
      " 13  review_id                      97228 non-null  object         \n",
      " 14  review_score                   97228 non-null  int64          \n",
      " 15  review_comment_title           11530 non-null  object         \n",
      " 16  review_comment_message         40388 non-null  object         \n",
      " 17  review_creation_date           97228 non-null  object         \n",
      " 18  order_item_id                  97228 non-null  int64          \n",
      " 19  product_id                     97228 non-null  object         \n",
      " 20  seller_id                      97228 non-null  object         \n",
      " 21  price                          97228 non-null  float64        \n",
      " 22  freight_value                  97228 non-null  float64        \n",
      " 23  product_category_name_english  97228 non-null  object         \n",
      " 24  delivery_time                  95097 non-null  timedelta64[ns]\n",
      "dtypes: datetime64[ns](2), float64(3), int64(4), object(15), timedelta64[ns](1)\n",
      "memory usage: 19.3+ MB\n"
     ]
    }
   ],
   "source": [
    "new_data.info()"
   ]
  },
  {
   "cell_type": "markdown",
   "metadata": {},
   "source": [
    "# Splitting into two different datasets\n",
    "\n",
    "The approach is to seperate customers who had multiple purchases and single purchases. Try to find out which factor leads to higher purchase. Aim is for customers to return to purchase"
   ]
  },
  {
   "cell_type": "code",
   "execution_count": 19,
   "metadata": {},
   "outputs": [
    {
     "data": {
      "text/html": [
       "<div>\n",
       "<style scoped>\n",
       "    .dataframe tbody tr th:only-of-type {\n",
       "        vertical-align: middle;\n",
       "    }\n",
       "\n",
       "    .dataframe tbody tr th {\n",
       "        vertical-align: top;\n",
       "    }\n",
       "\n",
       "    .dataframe thead th {\n",
       "        text-align: right;\n",
       "    }\n",
       "</style>\n",
       "<table border=\"1\" class=\"dataframe\">\n",
       "  <thead>\n",
       "    <tr style=\"text-align: right;\">\n",
       "      <th></th>\n",
       "      <th>customer_unique_id</th>\n",
       "    </tr>\n",
       "  </thead>\n",
       "  <tbody>\n",
       "    <tr>\n",
       "      <th>8d50f5eadf50201ccdcedfb9e2ac8455</th>\n",
       "      <td>15</td>\n",
       "    </tr>\n",
       "    <tr>\n",
       "      <th>3e43e6105506432c953e165fb2acf44c</th>\n",
       "      <td>9</td>\n",
       "    </tr>\n",
       "    <tr>\n",
       "      <th>1b6c7548a2a1f9037c1fd3ddfed95f33</th>\n",
       "      <td>7</td>\n",
       "    </tr>\n",
       "    <tr>\n",
       "      <th>6469f99c1f9dfae7733b25662e7f1782</th>\n",
       "      <td>7</td>\n",
       "    </tr>\n",
       "    <tr>\n",
       "      <th>ca77025e7201e3b30c44b472ff346268</th>\n",
       "      <td>7</td>\n",
       "    </tr>\n",
       "    <tr>\n",
       "      <th>...</th>\n",
       "      <td>...</td>\n",
       "    </tr>\n",
       "    <tr>\n",
       "      <th>6cd850488c03016c07454bb7e184d779</th>\n",
       "      <td>1</td>\n",
       "    </tr>\n",
       "    <tr>\n",
       "      <th>f95ccde28c7613a61e9e40681cac6104</th>\n",
       "      <td>1</td>\n",
       "    </tr>\n",
       "    <tr>\n",
       "      <th>d4b57ec91daca087ba9b388cf42c205b</th>\n",
       "      <td>1</td>\n",
       "    </tr>\n",
       "    <tr>\n",
       "      <th>659bdc990055d4604a50cd848a43b9a3</th>\n",
       "      <td>1</td>\n",
       "    </tr>\n",
       "    <tr>\n",
       "      <th>81a42a5e9b85c39c9dcf8087bb3d1341</th>\n",
       "      <td>1</td>\n",
       "    </tr>\n",
       "  </tbody>\n",
       "</table>\n",
       "<p>94062 rows × 1 columns</p>\n",
       "</div>"
      ],
      "text/plain": [
       "                                  customer_unique_id\n",
       "8d50f5eadf50201ccdcedfb9e2ac8455                  15\n",
       "3e43e6105506432c953e165fb2acf44c                   9\n",
       "1b6c7548a2a1f9037c1fd3ddfed95f33                   7\n",
       "6469f99c1f9dfae7733b25662e7f1782                   7\n",
       "ca77025e7201e3b30c44b472ff346268                   7\n",
       "...                                              ...\n",
       "6cd850488c03016c07454bb7e184d779                   1\n",
       "f95ccde28c7613a61e9e40681cac6104                   1\n",
       "d4b57ec91daca087ba9b388cf42c205b                   1\n",
       "659bdc990055d4604a50cd848a43b9a3                   1\n",
       "81a42a5e9b85c39c9dcf8087bb3d1341                   1\n",
       "\n",
       "[94062 rows x 1 columns]"
      ]
     },
     "execution_count": 19,
     "metadata": {},
     "output_type": "execute_result"
    }
   ],
   "source": [
    "comparison=pd.DataFrame(new_data.customer_unique_id.value_counts())\n",
    "comparison"
   ]
  },
  {
   "cell_type": "code",
   "execution_count": 20,
   "metadata": {},
   "outputs": [],
   "source": [
    "multiple = comparison[comparison['customer_unique_id']>1].reset_index()\n",
    "single = comparison[comparison['customer_unique_id'] == 1].reset_index()"
   ]
  },
  {
   "cell_type": "code",
   "execution_count": 21,
   "metadata": {},
   "outputs": [],
   "source": [
    "multiple.rename(columns = {'index': 'customer_unique_id', 'customer_unique_id': 'count'}, inplace = True)\n",
    "single.rename(columns = {'index': 'customer_unique_id', 'customer_unique_id': 'count'}, inplace = True)"
   ]
  },
  {
   "cell_type": "code",
   "execution_count": 22,
   "metadata": {},
   "outputs": [
    {
     "data": {
      "text/html": [
       "<div>\n",
       "<style scoped>\n",
       "    .dataframe tbody tr th:only-of-type {\n",
       "        vertical-align: middle;\n",
       "    }\n",
       "\n",
       "    .dataframe tbody tr th {\n",
       "        vertical-align: top;\n",
       "    }\n",
       "\n",
       "    .dataframe thead th {\n",
       "        text-align: right;\n",
       "    }\n",
       "</style>\n",
       "<table border=\"1\" class=\"dataframe\">\n",
       "  <thead>\n",
       "    <tr style=\"text-align: right;\">\n",
       "      <th></th>\n",
       "      <th>customer_unique_id</th>\n",
       "      <th>count</th>\n",
       "      <th>customer_id</th>\n",
       "      <th>customer_city</th>\n",
       "      <th>customer_state</th>\n",
       "      <th>order_id</th>\n",
       "      <th>order_status</th>\n",
       "      <th>order_purchase_timestamp</th>\n",
       "      <th>order_delivered_customer_date</th>\n",
       "      <th>order_estimated_delivery_date</th>\n",
       "      <th>...</th>\n",
       "      <th>review_comment_title</th>\n",
       "      <th>review_comment_message</th>\n",
       "      <th>review_creation_date</th>\n",
       "      <th>order_item_id</th>\n",
       "      <th>product_id</th>\n",
       "      <th>seller_id</th>\n",
       "      <th>price</th>\n",
       "      <th>freight_value</th>\n",
       "      <th>product_category_name_english</th>\n",
       "      <th>delivery_time</th>\n",
       "    </tr>\n",
       "  </thead>\n",
       "  <tbody>\n",
       "    <tr>\n",
       "      <th>0</th>\n",
       "      <td>8d50f5eadf50201ccdcedfb9e2ac8455</td>\n",
       "      <td>15</td>\n",
       "      <td>6289b75219d757a56c0cce8d9e427900</td>\n",
       "      <td>sao paulo</td>\n",
       "      <td>SP</td>\n",
       "      <td>6bdf325f0966e3056651285c0aed5aad</td>\n",
       "      <td>delivered</td>\n",
       "      <td>2018-05-22 23:08:55</td>\n",
       "      <td>2018-05-24 11:58:23</td>\n",
       "      <td>2018-05-30 00:00:00</td>\n",
       "      <td>...</td>\n",
       "      <td>NaN</td>\n",
       "      <td>NaN</td>\n",
       "      <td>2018-05-25 00:00:00</td>\n",
       "      <td>1</td>\n",
       "      <td>d6354128c28cc56532ba7393d9373083</td>\n",
       "      <td>412a4720f3e9431b4afa1476a1acddbe</td>\n",
       "      <td>51.80</td>\n",
       "      <td>11.15</td>\n",
       "      <td>sports_leisure</td>\n",
       "      <td>2 days</td>\n",
       "    </tr>\n",
       "    <tr>\n",
       "      <th>1</th>\n",
       "      <td>8d50f5eadf50201ccdcedfb9e2ac8455</td>\n",
       "      <td>15</td>\n",
       "      <td>1bd3585471932167ab72a84955ebefea</td>\n",
       "      <td>sao paulo</td>\n",
       "      <td>SP</td>\n",
       "      <td>b850a16d8faf65a74c51287ef34379ce</td>\n",
       "      <td>delivered</td>\n",
       "      <td>2017-11-22 20:01:53</td>\n",
       "      <td>2017-11-27 18:49:13</td>\n",
       "      <td>2017-12-04 00:00:00</td>\n",
       "      <td>...</td>\n",
       "      <td>NaN</td>\n",
       "      <td>NaN</td>\n",
       "      <td>2017-11-28 00:00:00</td>\n",
       "      <td>1</td>\n",
       "      <td>5bccc8fe44471df6c7b7e08176837d2f</td>\n",
       "      <td>1da3aeb70d7989d1e6d9b0e887f97c23</td>\n",
       "      <td>13.99</td>\n",
       "      <td>7.78</td>\n",
       "      <td>sports_leisure</td>\n",
       "      <td>5 days</td>\n",
       "    </tr>\n",
       "    <tr>\n",
       "      <th>2</th>\n",
       "      <td>8d50f5eadf50201ccdcedfb9e2ac8455</td>\n",
       "      <td>15</td>\n",
       "      <td>a8fabc805e9a10a3c93ae5bff642b86b</td>\n",
       "      <td>sao paulo</td>\n",
       "      <td>SP</td>\n",
       "      <td>23427a6bd9f8fd1b51f1b1e5cc186ab8</td>\n",
       "      <td>delivered</td>\n",
       "      <td>2018-05-21 22:44:31</td>\n",
       "      <td>2018-05-23 15:33:09</td>\n",
       "      <td>2018-05-29 00:00:00</td>\n",
       "      <td>...</td>\n",
       "      <td>NaN</td>\n",
       "      <td>NaN</td>\n",
       "      <td>2018-05-24 00:00:00</td>\n",
       "      <td>1</td>\n",
       "      <td>5cb96c51c55f57503465e4d2558dc053</td>\n",
       "      <td>db4350fd57ae30082dec7acbaacc17f9</td>\n",
       "      <td>45.99</td>\n",
       "      <td>7.39</td>\n",
       "      <td>sports_leisure</td>\n",
       "      <td>2 days</td>\n",
       "    </tr>\n",
       "    <tr>\n",
       "      <th>3</th>\n",
       "      <td>8d50f5eadf50201ccdcedfb9e2ac8455</td>\n",
       "      <td>15</td>\n",
       "      <td>897b7f72042714efaa64ac306ba0cafc</td>\n",
       "      <td>sao paulo</td>\n",
       "      <td>SP</td>\n",
       "      <td>c2213109a2cc0e75d55585b7aaac6d97</td>\n",
       "      <td>delivered</td>\n",
       "      <td>2018-08-07 23:32:14</td>\n",
       "      <td>2018-08-10 20:26:44</td>\n",
       "      <td>2018-08-13 00:00:00</td>\n",
       "      <td>...</td>\n",
       "      <td>NaN</td>\n",
       "      <td>NaN</td>\n",
       "      <td>2018-08-11 00:00:00</td>\n",
       "      <td>1</td>\n",
       "      <td>de7df82eb1e48c456b020c2cfb03aeed</td>\n",
       "      <td>1da3aeb70d7989d1e6d9b0e887f97c23</td>\n",
       "      <td>26.99</td>\n",
       "      <td>7.45</td>\n",
       "      <td>sports_leisure</td>\n",
       "      <td>3 days</td>\n",
       "    </tr>\n",
       "    <tr>\n",
       "      <th>4</th>\n",
       "      <td>8d50f5eadf50201ccdcedfb9e2ac8455</td>\n",
       "      <td>15</td>\n",
       "      <td>b2b13de0770e06de50080fea77c459e6</td>\n",
       "      <td>sao paulo</td>\n",
       "      <td>SP</td>\n",
       "      <td>369634708db140c5d2c4e365882c443a</td>\n",
       "      <td>delivered</td>\n",
       "      <td>2017-06-18 22:56:48</td>\n",
       "      <td>2017-06-23 12:55:50</td>\n",
       "      <td>2017-07-07 00:00:00</td>\n",
       "      <td>...</td>\n",
       "      <td>NaN</td>\n",
       "      <td>NaN</td>\n",
       "      <td>2017-06-25 00:00:00</td>\n",
       "      <td>1</td>\n",
       "      <td>d83509907a19c72e1e4cdde78b8177ec</td>\n",
       "      <td>94e93ce877be27a515118dbfd2c2be41</td>\n",
       "      <td>39.90</td>\n",
       "      <td>11.85</td>\n",
       "      <td>sports_leisure</td>\n",
       "      <td>5 days</td>\n",
       "    </tr>\n",
       "    <tr>\n",
       "      <th>...</th>\n",
       "      <td>...</td>\n",
       "      <td>...</td>\n",
       "      <td>...</td>\n",
       "      <td>...</td>\n",
       "      <td>...</td>\n",
       "      <td>...</td>\n",
       "      <td>...</td>\n",
       "      <td>...</td>\n",
       "      <td>...</td>\n",
       "      <td>...</td>\n",
       "      <td>...</td>\n",
       "      <td>...</td>\n",
       "      <td>...</td>\n",
       "      <td>...</td>\n",
       "      <td>...</td>\n",
       "      <td>...</td>\n",
       "      <td>...</td>\n",
       "      <td>...</td>\n",
       "      <td>...</td>\n",
       "      <td>...</td>\n",
       "      <td>...</td>\n",
       "    </tr>\n",
       "    <tr>\n",
       "      <th>6008</th>\n",
       "      <td>f944ee56d8467517955c2ddc7b0d486a</td>\n",
       "      <td>2</td>\n",
       "      <td>774858779c1de29d2be62401459a8ca0</td>\n",
       "      <td>jaragua do sul</td>\n",
       "      <td>SC</td>\n",
       "      <td>0bcde0684eba5746bbb90d6d9089570a</td>\n",
       "      <td>delivered</td>\n",
       "      <td>2017-11-01 20:57:34</td>\n",
       "      <td>2017-11-13 19:23:46</td>\n",
       "      <td>2017-11-24 00:00:00</td>\n",
       "      <td>...</td>\n",
       "      <td>NaN</td>\n",
       "      <td>A embalagem do produto é um pouco diferente ma...</td>\n",
       "      <td>2017-11-14 00:00:00</td>\n",
       "      <td>1</td>\n",
       "      <td>32aeecc02aa5adcb7f75155a80a47836</td>\n",
       "      <td>df56d7b40d437f88407c5f78b63bc328</td>\n",
       "      <td>138.50</td>\n",
       "      <td>16.73</td>\n",
       "      <td>sports_leisure</td>\n",
       "      <td>12 days</td>\n",
       "    </tr>\n",
       "    <tr>\n",
       "      <th>6009</th>\n",
       "      <td>7d35f5764e668c9deade51c2fd31758a</td>\n",
       "      <td>2</td>\n",
       "      <td>0ae2a7fe487a9e59d21a1413570cae2e</td>\n",
       "      <td>santa luzia</td>\n",
       "      <td>MG</td>\n",
       "      <td>9aecb82bfe0db20de65127f00bbb158f</td>\n",
       "      <td>delivered</td>\n",
       "      <td>2018-02-05 14:39:00</td>\n",
       "      <td>2018-02-14 21:09:19</td>\n",
       "      <td>2018-03-05 00:00:00</td>\n",
       "      <td>...</td>\n",
       "      <td>NaN</td>\n",
       "      <td>NaN</td>\n",
       "      <td>2018-02-20 00:00:00</td>\n",
       "      <td>1</td>\n",
       "      <td>00250175f79f584c14ab5cecd80553cd</td>\n",
       "      <td>b499c00f28f4b7069ff6550af8c1348a</td>\n",
       "      <td>79.99</td>\n",
       "      <td>15.31</td>\n",
       "      <td>housewares</td>\n",
       "      <td>9 days</td>\n",
       "    </tr>\n",
       "    <tr>\n",
       "      <th>6010</th>\n",
       "      <td>7d35f5764e668c9deade51c2fd31758a</td>\n",
       "      <td>2</td>\n",
       "      <td>ac1a389528fe61d073b809c5cd02d95a</td>\n",
       "      <td>santa luzia</td>\n",
       "      <td>MG</td>\n",
       "      <td>fa3d745324c8a96e112e217b025689f1</td>\n",
       "      <td>delivered</td>\n",
       "      <td>2018-02-05 14:38:57</td>\n",
       "      <td>2018-02-19 16:04:36</td>\n",
       "      <td>2018-03-13 00:00:00</td>\n",
       "      <td>...</td>\n",
       "      <td>NaN</td>\n",
       "      <td>NaN</td>\n",
       "      <td>2018-02-20 00:00:00</td>\n",
       "      <td>1</td>\n",
       "      <td>48e82f62f499350869ac7529efd9fcbd</td>\n",
       "      <td>cca3071e3e9bb7d12640c9fbe2301306</td>\n",
       "      <td>54.90</td>\n",
       "      <td>16.14</td>\n",
       "      <td>furniture_decor</td>\n",
       "      <td>14 days</td>\n",
       "    </tr>\n",
       "    <tr>\n",
       "      <th>6011</th>\n",
       "      <td>a366793a4999f8cc135855c4dd347421</td>\n",
       "      <td>2</td>\n",
       "      <td>ec44c35c1f4142d89e506f87f9ffc183</td>\n",
       "      <td>sao paulo</td>\n",
       "      <td>SP</td>\n",
       "      <td>bcdd99725db7d4c2fd9468f0fcf3cfa1</td>\n",
       "      <td>delivered</td>\n",
       "      <td>2018-02-16 22:02:09</td>\n",
       "      <td>2018-03-03 10:32:10</td>\n",
       "      <td>2018-03-06 00:00:00</td>\n",
       "      <td>...</td>\n",
       "      <td>NaN</td>\n",
       "      <td>NaN</td>\n",
       "      <td>2018-03-04 00:00:00</td>\n",
       "      <td>1</td>\n",
       "      <td>270447c8593b4b89e594781f9f1aff84</td>\n",
       "      <td>e62b2d6ac10570a035a30bafcf01d263</td>\n",
       "      <td>135.90</td>\n",
       "      <td>12.16</td>\n",
       "      <td>furniture_decor</td>\n",
       "      <td>15 days</td>\n",
       "    </tr>\n",
       "    <tr>\n",
       "      <th>6012</th>\n",
       "      <td>a366793a4999f8cc135855c4dd347421</td>\n",
       "      <td>2</td>\n",
       "      <td>660591dd3599d7962b734b00628fb114</td>\n",
       "      <td>sao paulo</td>\n",
       "      <td>SP</td>\n",
       "      <td>22583f00089ad69e494a302349673c44</td>\n",
       "      <td>delivered</td>\n",
       "      <td>2018-06-09 22:43:02</td>\n",
       "      <td>2018-06-14 22:51:36</td>\n",
       "      <td>2018-06-28 00:00:00</td>\n",
       "      <td>...</td>\n",
       "      <td>NaN</td>\n",
       "      <td>NaN</td>\n",
       "      <td>2018-06-15 00:00:00</td>\n",
       "      <td>1</td>\n",
       "      <td>37c4c3f162a9549087175b1391df2f02</td>\n",
       "      <td>bccf933e006e9b94a6184af782963e77</td>\n",
       "      <td>46.20</td>\n",
       "      <td>13.71</td>\n",
       "      <td>health_beauty</td>\n",
       "      <td>5 days</td>\n",
       "    </tr>\n",
       "  </tbody>\n",
       "</table>\n",
       "<p>6013 rows × 26 columns</p>\n",
       "</div>"
      ],
      "text/plain": [
       "                    customer_unique_id  count  \\\n",
       "0     8d50f5eadf50201ccdcedfb9e2ac8455     15   \n",
       "1     8d50f5eadf50201ccdcedfb9e2ac8455     15   \n",
       "2     8d50f5eadf50201ccdcedfb9e2ac8455     15   \n",
       "3     8d50f5eadf50201ccdcedfb9e2ac8455     15   \n",
       "4     8d50f5eadf50201ccdcedfb9e2ac8455     15   \n",
       "...                                ...    ...   \n",
       "6008  f944ee56d8467517955c2ddc7b0d486a      2   \n",
       "6009  7d35f5764e668c9deade51c2fd31758a      2   \n",
       "6010  7d35f5764e668c9deade51c2fd31758a      2   \n",
       "6011  a366793a4999f8cc135855c4dd347421      2   \n",
       "6012  a366793a4999f8cc135855c4dd347421      2   \n",
       "\n",
       "                           customer_id   customer_city customer_state  \\\n",
       "0     6289b75219d757a56c0cce8d9e427900       sao paulo             SP   \n",
       "1     1bd3585471932167ab72a84955ebefea       sao paulo             SP   \n",
       "2     a8fabc805e9a10a3c93ae5bff642b86b       sao paulo             SP   \n",
       "3     897b7f72042714efaa64ac306ba0cafc       sao paulo             SP   \n",
       "4     b2b13de0770e06de50080fea77c459e6       sao paulo             SP   \n",
       "...                                ...             ...            ...   \n",
       "6008  774858779c1de29d2be62401459a8ca0  jaragua do sul             SC   \n",
       "6009  0ae2a7fe487a9e59d21a1413570cae2e     santa luzia             MG   \n",
       "6010  ac1a389528fe61d073b809c5cd02d95a     santa luzia             MG   \n",
       "6011  ec44c35c1f4142d89e506f87f9ffc183       sao paulo             SP   \n",
       "6012  660591dd3599d7962b734b00628fb114       sao paulo             SP   \n",
       "\n",
       "                              order_id order_status order_purchase_timestamp  \\\n",
       "0     6bdf325f0966e3056651285c0aed5aad    delivered      2018-05-22 23:08:55   \n",
       "1     b850a16d8faf65a74c51287ef34379ce    delivered      2017-11-22 20:01:53   \n",
       "2     23427a6bd9f8fd1b51f1b1e5cc186ab8    delivered      2018-05-21 22:44:31   \n",
       "3     c2213109a2cc0e75d55585b7aaac6d97    delivered      2018-08-07 23:32:14   \n",
       "4     369634708db140c5d2c4e365882c443a    delivered      2017-06-18 22:56:48   \n",
       "...                                ...          ...                      ...   \n",
       "6008  0bcde0684eba5746bbb90d6d9089570a    delivered      2017-11-01 20:57:34   \n",
       "6009  9aecb82bfe0db20de65127f00bbb158f    delivered      2018-02-05 14:39:00   \n",
       "6010  fa3d745324c8a96e112e217b025689f1    delivered      2018-02-05 14:38:57   \n",
       "6011  bcdd99725db7d4c2fd9468f0fcf3cfa1    delivered      2018-02-16 22:02:09   \n",
       "6012  22583f00089ad69e494a302349673c44    delivered      2018-06-09 22:43:02   \n",
       "\n",
       "     order_delivered_customer_date order_estimated_delivery_date  ...  \\\n",
       "0              2018-05-24 11:58:23           2018-05-30 00:00:00  ...   \n",
       "1              2017-11-27 18:49:13           2017-12-04 00:00:00  ...   \n",
       "2              2018-05-23 15:33:09           2018-05-29 00:00:00  ...   \n",
       "3              2018-08-10 20:26:44           2018-08-13 00:00:00  ...   \n",
       "4              2017-06-23 12:55:50           2017-07-07 00:00:00  ...   \n",
       "...                            ...                           ...  ...   \n",
       "6008           2017-11-13 19:23:46           2017-11-24 00:00:00  ...   \n",
       "6009           2018-02-14 21:09:19           2018-03-05 00:00:00  ...   \n",
       "6010           2018-02-19 16:04:36           2018-03-13 00:00:00  ...   \n",
       "6011           2018-03-03 10:32:10           2018-03-06 00:00:00  ...   \n",
       "6012           2018-06-14 22:51:36           2018-06-28 00:00:00  ...   \n",
       "\n",
       "      review_comment_title                             review_comment_message  \\\n",
       "0                      NaN                                                NaN   \n",
       "1                      NaN                                                NaN   \n",
       "2                      NaN                                                NaN   \n",
       "3                      NaN                                                NaN   \n",
       "4                      NaN                                                NaN   \n",
       "...                    ...                                                ...   \n",
       "6008                   NaN  A embalagem do produto é um pouco diferente ma...   \n",
       "6009                   NaN                                                NaN   \n",
       "6010                   NaN                                                NaN   \n",
       "6011                   NaN                                                NaN   \n",
       "6012                   NaN                                                NaN   \n",
       "\n",
       "      review_creation_date  order_item_id                        product_id  \\\n",
       "0      2018-05-25 00:00:00              1  d6354128c28cc56532ba7393d9373083   \n",
       "1      2017-11-28 00:00:00              1  5bccc8fe44471df6c7b7e08176837d2f   \n",
       "2      2018-05-24 00:00:00              1  5cb96c51c55f57503465e4d2558dc053   \n",
       "3      2018-08-11 00:00:00              1  de7df82eb1e48c456b020c2cfb03aeed   \n",
       "4      2017-06-25 00:00:00              1  d83509907a19c72e1e4cdde78b8177ec   \n",
       "...                    ...            ...                               ...   \n",
       "6008   2017-11-14 00:00:00              1  32aeecc02aa5adcb7f75155a80a47836   \n",
       "6009   2018-02-20 00:00:00              1  00250175f79f584c14ab5cecd80553cd   \n",
       "6010   2018-02-20 00:00:00              1  48e82f62f499350869ac7529efd9fcbd   \n",
       "6011   2018-03-04 00:00:00              1  270447c8593b4b89e594781f9f1aff84   \n",
       "6012   2018-06-15 00:00:00              1  37c4c3f162a9549087175b1391df2f02   \n",
       "\n",
       "                             seller_id   price freight_value  \\\n",
       "0     412a4720f3e9431b4afa1476a1acddbe   51.80         11.15   \n",
       "1     1da3aeb70d7989d1e6d9b0e887f97c23   13.99          7.78   \n",
       "2     db4350fd57ae30082dec7acbaacc17f9   45.99          7.39   \n",
       "3     1da3aeb70d7989d1e6d9b0e887f97c23   26.99          7.45   \n",
       "4     94e93ce877be27a515118dbfd2c2be41   39.90         11.85   \n",
       "...                                ...     ...           ...   \n",
       "6008  df56d7b40d437f88407c5f78b63bc328  138.50         16.73   \n",
       "6009  b499c00f28f4b7069ff6550af8c1348a   79.99         15.31   \n",
       "6010  cca3071e3e9bb7d12640c9fbe2301306   54.90         16.14   \n",
       "6011  e62b2d6ac10570a035a30bafcf01d263  135.90         12.16   \n",
       "6012  bccf933e006e9b94a6184af782963e77   46.20         13.71   \n",
       "\n",
       "     product_category_name_english  delivery_time  \n",
       "0                   sports_leisure         2 days  \n",
       "1                   sports_leisure         5 days  \n",
       "2                   sports_leisure         2 days  \n",
       "3                   sports_leisure         3 days  \n",
       "4                   sports_leisure         5 days  \n",
       "...                            ...            ...  \n",
       "6008                sports_leisure        12 days  \n",
       "6009                    housewares         9 days  \n",
       "6010               furniture_decor        14 days  \n",
       "6011               furniture_decor        15 days  \n",
       "6012                 health_beauty         5 days  \n",
       "\n",
       "[6013 rows x 26 columns]"
      ]
     },
     "execution_count": 22,
     "metadata": {},
     "output_type": "execute_result"
    }
   ],
   "source": [
    "Single_purchase=pd.merge(single,new_data, on = 'customer_unique_id')\n",
    "Multiple_purchase=pd.merge(multiple,new_data, on = 'customer_unique_id')\n",
    "Multiple_purchase"
   ]
  },
  {
   "cell_type": "markdown",
   "metadata": {},
   "source": [
    "# Checking Review Score"
   ]
  },
  {
   "cell_type": "code",
   "execution_count": 23,
   "metadata": {},
   "outputs": [
    {
     "data": {
      "text/plain": [
       "<seaborn.axisgrid.FacetGrid at 0x24155d17e80>"
      ]
     },
     "execution_count": 23,
     "metadata": {},
     "output_type": "execute_result"
    },
    {
     "data": {
      "text/plain": [
       "<Figure size 1152x576 with 0 Axes>"
      ]
     },
     "metadata": {},
     "output_type": "display_data"
    },
    {
     "data": {
      "image/png": "[encoded data removed]",
      "text/plain": [
       "<Figure size 360x360 with 1 Axes>"
      ]
     },
     "metadata": {},
     "output_type": "display_data"
    }
   ],
   "source": [
    "plt.figure(figsize = (16, 8))\n",
    "sb.catplot(data=Multiple_purchase,x='review_score',y='count')"
   ]
  },
  {
   "cell_type": "code",
   "execution_count": 24,
   "metadata": {
    "scrolled": true
   },
   "outputs": [
    {
     "data": {
      "text/plain": [
       "<AxesSubplot:xlabel='review_score', ylabel='Count'>"
      ]
     },
     "execution_count": 24,
     "metadata": {},
     "output_type": "execute_result"
    },
    {
     "data": {
      "image/png": "[encoded data removed]",
      "text/plain": [
       "<Figure size 432x288 with 1 Axes>"
      ]
     },
     "metadata": {},
     "output_type": "display_data"
    }
   ],
   "source": [
    "sb.histplot(data=Single_purchase, x='review_score')"
   ]
  },
  {
   "cell_type": "markdown",
   "metadata": {},
   "source": [
    "# Comparing Popular Products"
   ]
  },
  {
   "cell_type": "code",
   "execution_count": 25,
   "metadata": {},
   "outputs": [
    {
     "data": {
      "text/html": [
       "<div>\n",
       "<style scoped>\n",
       "    .dataframe tbody tr th:only-of-type {\n",
       "        vertical-align: middle;\n",
       "    }\n",
       "\n",
       "    .dataframe tbody tr th {\n",
       "        vertical-align: top;\n",
       "    }\n",
       "\n",
       "    .dataframe thead th {\n",
       "        text-align: right;\n",
       "    }\n",
       "</style>\n",
       "<table border=\"1\" class=\"dataframe\">\n",
       "  <thead>\n",
       "    <tr style=\"text-align: right;\">\n",
       "      <th></th>\n",
       "      <th>product_category_name_english</th>\n",
       "      <th>count</th>\n",
       "    </tr>\n",
       "  </thead>\n",
       "  <tbody>\n",
       "    <tr>\n",
       "      <th>0</th>\n",
       "      <td>bed_bath_table</td>\n",
       "      <td>837</td>\n",
       "    </tr>\n",
       "    <tr>\n",
       "      <th>1</th>\n",
       "      <td>sports_leisure</td>\n",
       "      <td>595</td>\n",
       "    </tr>\n",
       "    <tr>\n",
       "      <th>2</th>\n",
       "      <td>furniture_decor</td>\n",
       "      <td>566</td>\n",
       "    </tr>\n",
       "    <tr>\n",
       "      <th>3</th>\n",
       "      <td>health_beauty</td>\n",
       "      <td>502</td>\n",
       "    </tr>\n",
       "    <tr>\n",
       "      <th>4</th>\n",
       "      <td>computers_accessories</td>\n",
       "      <td>408</td>\n",
       "    </tr>\n",
       "    <tr>\n",
       "      <th>...</th>\n",
       "      <td>...</td>\n",
       "      <td>...</td>\n",
       "    </tr>\n",
       "    <tr>\n",
       "      <th>63</th>\n",
       "      <td>diapers_and_hygiene</td>\n",
       "      <td>2</td>\n",
       "    </tr>\n",
       "    <tr>\n",
       "      <th>64</th>\n",
       "      <td>fashion_childrens_clothes</td>\n",
       "      <td>1</td>\n",
       "    </tr>\n",
       "    <tr>\n",
       "      <th>65</th>\n",
       "      <td>fashion_sport</td>\n",
       "      <td>1</td>\n",
       "    </tr>\n",
       "    <tr>\n",
       "      <th>66</th>\n",
       "      <td>party_supplies</td>\n",
       "      <td>1</td>\n",
       "    </tr>\n",
       "    <tr>\n",
       "      <th>67</th>\n",
       "      <td>small_appliances_home_oven_and_coffee</td>\n",
       "      <td>1</td>\n",
       "    </tr>\n",
       "  </tbody>\n",
       "</table>\n",
       "<p>68 rows × 2 columns</p>\n",
       "</div>"
      ],
      "text/plain": [
       "            product_category_name_english  count\n",
       "0                          bed_bath_table    837\n",
       "1                          sports_leisure    595\n",
       "2                         furniture_decor    566\n",
       "3                           health_beauty    502\n",
       "4                   computers_accessories    408\n",
       "..                                    ...    ...\n",
       "63                    diapers_and_hygiene      2\n",
       "64              fashion_childrens_clothes      1\n",
       "65                          fashion_sport      1\n",
       "66                         party_supplies      1\n",
       "67  small_appliances_home_oven_and_coffee      1\n",
       "\n",
       "[68 rows x 2 columns]"
      ]
     },
     "execution_count": 25,
     "metadata": {},
     "output_type": "execute_result"
    }
   ],
   "source": [
    "popularproducts=pd.DataFrame(Multiple_purchase.product_category_name_english.value_counts()).reset_index()\n",
    "popularproducts.rename(columns = {'index': 'product_category_name_english', 'product_category_name_english': 'count'}, inplace = True)\n",
    "popularproducts"
   ]
  },
  {
   "cell_type": "code",
   "execution_count": 26,
   "metadata": {},
   "outputs": [],
   "source": [
    "popularproducts = popularproducts[popularproducts['count']>20]"
   ]
  },
  {
   "cell_type": "code",
   "execution_count": 27,
   "metadata": {},
   "outputs": [
    {
     "data": {
      "image/png": "[encoded data removed]",
      "text/plain": [
       "<Figure size 1152x576 with 1 Axes>"
      ]
     },
     "metadata": {},
     "output_type": "display_data"
    }
   ],
   "source": [
    "\n",
    "plt.figure(figsize = (16, 8))\n",
    "plt.ioff()\n",
    "\n",
    "popularproducts_plot = sb.barplot(x = \"product_category_name_english\", y = \"count\", data = popularproducts)\n",
    "\n",
    "popularproducts_plot.set_xticklabels(labels = popularproducts['product_category_name_english'].unique(), rotation = 90)\n",
    "plt.xlabel(\"product cat\", fontsize = 18)\n",
    "plt.ylabel(\"count\", fontsize = 18)\n",
    "plt.title(\"Product cat count\", fontsize = 20)\n",
    "plt.ioff()\n",
    "\n",
    "plt.show(popularproducts_plot)"
   ]
  },
  {
   "cell_type": "code",
   "execution_count": 28,
   "metadata": {},
   "outputs": [
    {
     "data": {
      "text/plain": [
       "bed_bath_table                           0.139198\n",
       "sports_leisure                           0.098952\n",
       "furniture_decor                          0.094129\n",
       "health_beauty                            0.083486\n",
       "computers_accessories                    0.067853\n",
       "                                           ...   \n",
       "diapers_and_hygiene                      0.000333\n",
       "fashion_childrens_clothes                0.000166\n",
       "fashion_sport                            0.000166\n",
       "party_supplies                           0.000166\n",
       "small_appliances_home_oven_and_coffee    0.000166\n",
       "Name: product_category_name_english, Length: 68, dtype: float64"
      ]
     },
     "execution_count": 28,
     "metadata": {},
     "output_type": "execute_result"
    }
   ],
   "source": [
    "Multiple_purchase.product_category_name_english.value_counts(normalize= True)"
   ]
  },
  {
   "cell_type": "code",
   "execution_count": 29,
   "metadata": {},
   "outputs": [
    {
     "data": {
      "text/plain": [
       "bed_bath_table               0.092901\n",
       "health_beauty                0.090917\n",
       "sports_leisure               0.077685\n",
       "computers_accessories        0.068541\n",
       "furniture_decor              0.063465\n",
       "                               ...   \n",
       "arts_and_craftmanship        0.000186\n",
       "cds_dvds_musicals            0.000132\n",
       "la_cuisine                   0.000110\n",
       "fashion_childrens_clothes    0.000077\n",
       "security_and_services        0.000022\n",
       "Name: product_category_name_english, Length: 71, dtype: float64"
      ]
     },
     "execution_count": 29,
     "metadata": {},
     "output_type": "execute_result"
    }
   ],
   "source": [
    "Single_purchase.product_category_name_english.value_counts(normalize= True)"
   ]
  },
  {
   "cell_type": "code",
   "execution_count": 30,
   "metadata": {},
   "outputs": [
    {
     "data": {
      "text/html": [
       "<div>\n",
       "<style scoped>\n",
       "    .dataframe tbody tr th:only-of-type {\n",
       "        vertical-align: middle;\n",
       "    }\n",
       "\n",
       "    .dataframe tbody tr th {\n",
       "        vertical-align: top;\n",
       "    }\n",
       "\n",
       "    .dataframe thead th {\n",
       "        text-align: right;\n",
       "    }\n",
       "</style>\n",
       "<table border=\"1\" class=\"dataframe\">\n",
       "  <thead>\n",
       "    <tr style=\"text-align: right;\">\n",
       "      <th></th>\n",
       "      <th>product_category_name_english</th>\n",
       "      <th>count</th>\n",
       "    </tr>\n",
       "  </thead>\n",
       "  <tbody>\n",
       "    <tr>\n",
       "      <th>0</th>\n",
       "      <td>bed_bath_table</td>\n",
       "      <td>8474</td>\n",
       "    </tr>\n",
       "    <tr>\n",
       "      <th>1</th>\n",
       "      <td>health_beauty</td>\n",
       "      <td>8293</td>\n",
       "    </tr>\n",
       "    <tr>\n",
       "      <th>2</th>\n",
       "      <td>sports_leisure</td>\n",
       "      <td>7086</td>\n",
       "    </tr>\n",
       "    <tr>\n",
       "      <th>3</th>\n",
       "      <td>computers_accessories</td>\n",
       "      <td>6252</td>\n",
       "    </tr>\n",
       "    <tr>\n",
       "      <th>4</th>\n",
       "      <td>furniture_decor</td>\n",
       "      <td>5789</td>\n",
       "    </tr>\n",
       "    <tr>\n",
       "      <th>...</th>\n",
       "      <td>...</td>\n",
       "      <td>...</td>\n",
       "    </tr>\n",
       "    <tr>\n",
       "      <th>66</th>\n",
       "      <td>arts_and_craftmanship</td>\n",
       "      <td>17</td>\n",
       "    </tr>\n",
       "    <tr>\n",
       "      <th>67</th>\n",
       "      <td>cds_dvds_musicals</td>\n",
       "      <td>12</td>\n",
       "    </tr>\n",
       "    <tr>\n",
       "      <th>68</th>\n",
       "      <td>la_cuisine</td>\n",
       "      <td>10</td>\n",
       "    </tr>\n",
       "    <tr>\n",
       "      <th>69</th>\n",
       "      <td>fashion_childrens_clothes</td>\n",
       "      <td>7</td>\n",
       "    </tr>\n",
       "    <tr>\n",
       "      <th>70</th>\n",
       "      <td>security_and_services</td>\n",
       "      <td>2</td>\n",
       "    </tr>\n",
       "  </tbody>\n",
       "</table>\n",
       "<p>71 rows × 2 columns</p>\n",
       "</div>"
      ],
      "text/plain": [
       "   product_category_name_english  count\n",
       "0                 bed_bath_table   8474\n",
       "1                  health_beauty   8293\n",
       "2                 sports_leisure   7086\n",
       "3          computers_accessories   6252\n",
       "4                furniture_decor   5789\n",
       "..                           ...    ...\n",
       "66         arts_and_craftmanship     17\n",
       "67             cds_dvds_musicals     12\n",
       "68                    la_cuisine     10\n",
       "69     fashion_childrens_clothes      7\n",
       "70         security_and_services      2\n",
       "\n",
       "[71 rows x 2 columns]"
      ]
     },
     "execution_count": 30,
     "metadata": {},
     "output_type": "execute_result"
    }
   ],
   "source": [
    "popularproducts_single=pd.DataFrame(Single_purchase.product_category_name_english.value_counts()).reset_index()\n",
    "popularproducts_single.rename(columns = {'index': 'product_category_name_english', 'product_category_name_english': 'count'}, inplace = True)\n",
    "popularproducts_single"
   ]
  },
  {
   "cell_type": "code",
   "execution_count": 31,
   "metadata": {},
   "outputs": [],
   "source": [
    "popularproducts_single = popularproducts_single[popularproducts_single['count']>50]"
   ]
  },
  {
   "cell_type": "code",
   "execution_count": 32,
   "metadata": {},
   "outputs": [
    {
     "data": {
      "image/png": "[encoded data removed]",
      "text/plain": [
       "<Figure size 1152x576 with 1 Axes>"
      ]
     },
     "metadata": {},
     "output_type": "display_data"
    }
   ],
   "source": [
    "plt.figure(figsize = (16, 8))\n",
    "plt.ioff()\n",
    "\n",
    "popularproducts_plot = sb.barplot(x = \"product_category_name_english\", y = \"count\", data = popularproducts_single)\n",
    "\n",
    "popularproducts_plot.set_xticklabels(labels = popularproducts_single['product_category_name_english'].unique(), rotation = 90)\n",
    "plt.xlabel(\"product cat\", fontsize = 18)\n",
    "plt.ylabel(\"count\", fontsize = 18)\n",
    "plt.title(\"Product cat count\", fontsize = 20)\n",
    "plt.ioff()\n",
    "\n",
    "plt.show(popularproducts_plot)"
   ]
  },
  {
   "cell_type": "code",
   "execution_count": 33,
   "metadata": {},
   "outputs": [
    {
     "data": {
      "text/plain": [
       "bed_bath_table               0.092901\n",
       "health_beauty                0.090917\n",
       "sports_leisure               0.077685\n",
       "computers_accessories        0.068541\n",
       "furniture_decor              0.063465\n",
       "                               ...   \n",
       "arts_and_craftmanship        0.000186\n",
       "cds_dvds_musicals            0.000132\n",
       "la_cuisine                   0.000110\n",
       "fashion_childrens_clothes    0.000077\n",
       "security_and_services        0.000022\n",
       "Name: product_category_name_english, Length: 71, dtype: float64"
      ]
     },
     "execution_count": 33,
     "metadata": {},
     "output_type": "execute_result"
    }
   ],
   "source": [
    "Single_purchase.product_category_name_english.value_counts(normalize= True)"
   ]
  },
  {
   "cell_type": "markdown",
   "metadata": {},
   "source": [
    "# Comparing Delivery Time"
   ]
  },
  {
   "cell_type": "code",
   "execution_count": 34,
   "metadata": {},
   "outputs": [
    {
     "data": {
      "text/plain": [
       "0       2 days\n",
       "1       5 days\n",
       "2       2 days\n",
       "3       3 days\n",
       "4       5 days\n",
       "         ...  \n",
       "6008   12 days\n",
       "6009    9 days\n",
       "6010   14 days\n",
       "6011   15 days\n",
       "6012    5 days\n",
       "Name: delivery_time, Length: 6013, dtype: timedelta64[ns]"
      ]
     },
     "execution_count": 34,
     "metadata": {},
     "output_type": "execute_result"
    }
   ],
   "source": [
    "Multiple_purchase['delivery_time']"
   ]
  },
  {
   "cell_type": "code",
   "execution_count": 35,
   "metadata": {},
   "outputs": [
    {
     "data": {
      "text/plain": [
       "count                          6013\n",
       "mean     12 days 01:05:37.069682354\n",
       "std       8 days 14:44:00.529430215\n",
       "min                 0 days 00:00:00\n",
       "25%                 6 days 00:00:00\n",
       "50%                10 days 00:00:00\n",
       "75%                15 days 00:00:00\n",
       "max                88 days 00:00:00\n",
       "Name: delivery_time, dtype: object"
      ]
     },
     "execution_count": 35,
     "metadata": {},
     "output_type": "execute_result"
    }
   ],
   "source": [
    "Multiple_purchase['delivery_time'].fillna(pd.Timedelta('0 days'), inplace =True)\n",
    "Multiple_purchase['delivery_time'].describe()"
   ]
  },
  {
   "cell_type": "code",
   "execution_count": 37,
   "metadata": {},
   "outputs": [],
   "source": [
    "Multiple_purchase['delivery_time'] = Multiple_purchase['delivery_time'].dt.days.astype('int16')\n"
   ]
  },
  {
   "cell_type": "code",
   "execution_count": 38,
   "metadata": {},
   "outputs": [
    {
     "data": {
      "text/plain": [
       "<AxesSubplot:>"
      ]
     },
     "execution_count": 38,
     "metadata": {},
     "output_type": "execute_result"
    },
    {
     "data": {
      "image/png": "[encoded data removed]",
      "text/plain": [
       "<Figure size 1152x576 with 1 Axes>"
      ]
     },
     "metadata": {},
     "output_type": "display_data"
    }
   ],
   "source": [
    "plt.figure(figsize = (16, 8))\n",
    "sb.boxplot(data=Multiple_purchase['delivery_time'])"
   ]
  },
  {
   "cell_type": "code",
   "execution_count": 39,
   "metadata": {},
   "outputs": [
    {
     "data": {
      "text/plain": [
       "count                         91215\n",
       "mean     12 days 06:04:53.872718302\n",
       "std       9 days 16:19:53.888550423\n",
       "min                 0 days 00:00:00\n",
       "25%                 6 days 00:00:00\n",
       "50%                10 days 00:00:00\n",
       "75%                15 days 00:00:00\n",
       "max               210 days 00:00:00\n",
       "Name: delivery_time, dtype: object"
      ]
     },
     "execution_count": 39,
     "metadata": {},
     "output_type": "execute_result"
    }
   ],
   "source": [
    "Single_purchase['delivery_time'].fillna(pd.Timedelta('0 days'), inplace =True)\n",
    "Single_purchase['delivery_time'].describe()"
   ]
  },
  {
   "cell_type": "code",
   "execution_count": 40,
   "metadata": {},
   "outputs": [],
   "source": [
    "Single_purchase['delivery_time'] = Single_purchase['delivery_time'].dt.days.astype('int16')"
   ]
  },
  {
   "cell_type": "code",
   "execution_count": 41,
   "metadata": {},
   "outputs": [
    {
     "data": {
      "text/plain": [
       "<AxesSubplot:>"
      ]
     },
     "execution_count": 41,
     "metadata": {},
     "output_type": "execute_result"
    },
    {
     "data": {
      "image/png": "[encoded data removed]",
      "text/plain": [
       "<Figure size 1152x576 with 1 Axes>"
      ]
     },
     "metadata": {},
     "output_type": "display_data"
    }
   ],
   "source": [
    "plt.figure(figsize = (16, 8))\n",
    "sb.boxplot(data=Single_purchase['delivery_time'])"
   ]
  },
  {
   "cell_type": "code",
   "execution_count": 42,
   "metadata": {},
   "outputs": [],
   "source": [
    "df=new_data.seller_id.value_counts()"
   ]
  },
  {
   "cell_type": "code",
   "execution_count": 43,
   "metadata": {},
   "outputs": [
    {
     "data": {
      "text/plain": [
       "count    6013.000000\n",
       "mean       19.108194\n",
       "std        13.305653\n",
       "min         0.000000\n",
       "25%        12.830000\n",
       "50%        16.110000\n",
       "75%        20.190000\n",
       "max       196.940000\n",
       "Name: freight_value, dtype: float64"
      ]
     },
     "execution_count": 43,
     "metadata": {},
     "output_type": "execute_result"
    }
   ],
   "source": [
    "Multiple_purchase['freight_value'].describe()"
   ]
  },
  {
   "cell_type": "code",
   "execution_count": 44,
   "metadata": {},
   "outputs": [
    {
     "data": {
      "text/plain": [
       "count    91215.000000\n",
       "mean        20.313844\n",
       "std         16.099995\n",
       "min          0.000000\n",
       "25%         13.370000\n",
       "50%         16.450000\n",
       "75%         21.350000\n",
       "max        409.680000\n",
       "Name: freight_value, dtype: float64"
      ]
     },
     "execution_count": 44,
     "metadata": {},
     "output_type": "execute_result"
    }
   ],
   "source": [
    "Single_purchase['freight_value'].describe()"
   ]
  },
  {
   "cell_type": "code",
   "execution_count": 45,
   "metadata": {},
   "outputs": [
    {
     "data": {
      "text/plain": [
       "34692    5\n",
       "Name: review_score, dtype: int64"
      ]
     },
     "execution_count": 45,
     "metadata": {},
     "output_type": "execute_result"
    }
   ],
   "source": [
    "Single_purchase[Single_purchase['freight_value']>409]['review_score']"
   ]
  },
  {
   "cell_type": "code",
   "execution_count": 47,
   "metadata": {},
   "outputs": [
    {
     "data": {
      "text/plain": [
       "<AxesSubplot:>"
      ]
     },
     "execution_count": 47,
     "metadata": {},
     "output_type": "execute_result"
    },
    {
     "data": {
      "image/png": "[encoded data removed]",
      "text/plain": [
       "<Figure size 2232x2232 with 2 Axes>"
      ]
     },
     "metadata": {},
     "output_type": "display_data"
    }
   ],
   "source": [
    "plt.figure(figsize=(31,31))\n",
    "sb.set(font_scale=1.4)\n",
    "corr=Multiple_purchase.corr()\n",
    "sb.heatmap(corr,vmin=-1, vmax=1, center=0, cmap=sb.diverging_palette(20,220, n=200), annot=True, fmt=\".2f\")"
   ]
  },
  {
   "cell_type": "markdown",
   "metadata": {},
   "source": [
    "# Conclusion and Observations\n",
    "\n",
    "After looking through the comaprisons between variables in the two datasets, we realise that there were no variables that showed distinct differences between those who purchased multiple times and those who purchased only once."
   ]
  },
  {
   "cell_type": "code",
   "execution_count": null,
   "metadata": {},
   "outputs": [],
   "source": []
  }
 ],
 "metadata": {
  "kernelspec": {
   "display_name": "Python 3",
   "language": "python",
   "name": "python3"
  },
  "language_info": {
   "codemirror_mode": {
    "name": "ipython",
    "version": 3
   },
   "file_extension": ".py",
   "mimetype": "text/x-python",
   "name": "python",
   "nbconvert_exporter": "python",
   "pygments_lexer": "ipython3",
   "version": "3.8.5"
  }
 },
 "nbformat": 4,
 "nbformat_minor": 4
}
